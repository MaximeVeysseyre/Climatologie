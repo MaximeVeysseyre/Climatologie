{
 "metadata": {
  "language_info": {
   "codemirror_mode": {
    "name": "ipython",
    "version": 3
   },
   "file_extension": ".py",
   "mimetype": "text/x-python",
   "name": "python",
   "nbconvert_exporter": "python",
   "pygments_lexer": "ipython3",
   "version": "3.7.9-final"
  },
  "orig_nbformat": 2,
  "kernelspec": {
   "name": "python3",
   "display_name": "Python 3.7.9 64-bit ('climatologie': conda)",
   "metadata": {
    "interpreter": {
     "hash": "fde7d512e2d3401f200f41ccb25a600ca19a911c1517cd7dc62060e4479e29f3"
    }
   }
  }
 },
 "nbformat": 4,
 "nbformat_minor": 2,
 "cells": [
  {
   "source": [
    "# Projet Climatologie\n"
   ],
   "cell_type": "markdown",
   "metadata": {}
  },
  {
   "source": [
    "## Liste des requêtes\n",
    "\n",
    "\n",
    "- Les températures moyennes françaises de 1995 à 2019.\n",
    "\n",
    "- L'évolution moyenne de la température chaque mois de l'année (sur toutes les années donc) de chaque région du globe (à l'aide de subplots, soit plusieurs diagrammes sur un seul affichage).\n",
    "\n",
    "- Le classement graphique des pays les plus chauds au monde.\n",
    "\n",
    "- Le classement graphique des pays les plus froids au monde.\n",
    "\n",
    "- L'évolution des températures entre le pays le plus chaud et le pays le plus froid de 1995 à 2019 sur un même graphique.\n",
    "\n",
    "- L'évolution de la température moyenne de la ville de Paris.\n",
    "\n",
    "- La température moyenne de chaque pays sur une carte sur la période 2010-2019.\n",
    "\n"
   ],
   "cell_type": "markdown",
   "metadata": {}
  },
  {
   "source": [
    "## Structure du jeu de données source\n",
    "\n",
    "Region / Country / State / City / Month / Day / Year / AvgTemperature"
   ],
   "cell_type": "markdown",
   "metadata": {}
  },
  {
   "source": [
    "## Import des librairies"
   ],
   "cell_type": "markdown",
   "metadata": {}
  },
  {
   "cell_type": "code",
   "execution_count": null,
   "metadata": {},
   "outputs": [],
   "source": [
    "# IPython extension reloading modules before user enters code.\n",
    "%load_ext autoreload\n",
    "%autoreload 2\n",
    "\n",
    "import pandas as pd\n",
    "import matplotlib.pyplot as plt\n",
    "import numpy as np\n",
    "\n",
    "from src.credentials import Credentials as cr\n",
    "import src.split_datas as sd"
   ]
  },
  {
   "source": [
    "## Nettoyage du jeu de données"
   ],
   "cell_type": "markdown",
   "metadata": {}
  },
  {
   "cell_type": "code",
   "execution_count": null,
   "metadata": {},
   "outputs": [],
   "source": [
    "global_temperatures = pd.read_csv(\"./data/RAW/temperatures.csv\", delimiter = ',')"
   ]
  },
  {
   "cell_type": "code",
   "execution_count": null,
   "metadata": {},
   "outputs": [],
   "source": [
    "global_temperatures.describe()"
   ]
  },
  {
   "cell_type": "code",
   "execution_count": null,
   "metadata": {},
   "outputs": [],
   "source": [
    "# Conversion des degrés Fahrenheit en degrés Celsius.\n",
    "global_temperatures['AvgTemperature'] = (global_temperatures['AvgTemperature'] - 32) / 1.8"
   ]
  },
  {
   "cell_type": "code",
   "execution_count": null,
   "metadata": {},
   "outputs": [],
   "source": [
    "# Nettoyage des données aberrantes.\n",
    "global_temperatures = global_temperatures[global_temperatures['AvgTemperature'] > -72]"
   ]
  },
  {
   "cell_type": "code",
   "execution_count": null,
   "metadata": {},
   "outputs": [],
   "source": [
    "# Nous n'avons pas besoin de l'année 2020 dans ce projet.\n",
    "global_temperatures = global_temperatures[global_temperatures['Year'] <= 2019]"
   ]
  },
  {
   "cell_type": "code",
   "execution_count": null,
   "metadata": {},
   "outputs": [],
   "source": [
    "global_temperatures['Region'][global_temperatures['Region'] == 'North America'] = 'NorthAmerica'\n",
    "global_temperatures['Region'][global_temperatures['Region'] == 'South/Central America & Carribean'] = 'SouthCentralAmericaCarribean'\n",
    "global_temperatures['Region'][global_temperatures['Region'] == 'Middle East'] = 'MiddleEast'\n",
    "global_temperatures['Region'][global_temperatures['Region'] == 'Australia/South Pacific'] = 'AustraliaSouthPacific'"
   ]
  },
  {
   "cell_type": "code",
   "execution_count": null,
   "metadata": {},
   "outputs": [],
   "source": [
    "global_temperatures.to_csv(\"./data/RAW/temperatures_filtre.csv\")"
   ]
  },
  {
   "source": [
    "## Séparation des données"
   ],
   "cell_type": "markdown",
   "metadata": {}
  },
  {
   "cell_type": "code",
   "execution_count": null,
   "metadata": {},
   "outputs": [],
   "source": [
    "sd.split_datas(cr.TEMPERATURES_FILTRE, 'Country')"
   ]
  },
  {
   "cell_type": "code",
   "execution_count": null,
   "metadata": {},
   "outputs": [],
   "source": [
    "sd.split_datas(cr.TEMPERATURES_FILTRE, 'Region')"
   ]
  },
  {
   "source": [
    "## Les températures moyennes françaises de 1995 à 2019"
   ],
   "cell_type": "markdown",
   "metadata": {}
  },
  {
   "cell_type": "code",
   "execution_count": null,
   "metadata": {},
   "outputs": [],
   "source": [
    "local_france = pd.read_csv(\"./data/CURATED/Country/France.csv\", sep=',', encoding='utf-8')"
   ]
  },
  {
   "cell_type": "code",
   "execution_count": null,
   "metadata": {},
   "outputs": [],
   "source": [
    "local_france = local_france.drop('Unnamed: 0', axis = 1)"
   ]
  },
  {
   "cell_type": "code",
   "execution_count": null,
   "metadata": {},
   "outputs": [],
   "source": [
    "local_france[['Region', 'Country', 'State', 'City']] = local_france[['Region', 'Country', 'State', 'City']].astype('string')"
   ]
  },
  {
   "cell_type": "code",
   "execution_count": null,
   "metadata": {},
   "outputs": [],
   "source": [
    "local_france.dtypes"
   ]
  },
  {
   "cell_type": "code",
   "execution_count": null,
   "metadata": {},
   "outputs": [],
   "source": [
    "local_france = local_france[['Year', 'AvgTemperature']].groupby('Year').agg({'AvgTemperature': 'mean'})"
   ]
  },
  {
   "cell_type": "code",
   "execution_count": null,
   "metadata": {},
   "outputs": [],
   "source": [
    "plt.plot(local_france['AvgTemperature'])\n",
    "plt.xlabel('Années')\n",
    "plt.ylabel('Températures moyennes')\n",
    "plt.title('Les températures moyennes françaises de 1995 à 2019')\n",
    "plt.show()"
   ]
  },
  {
   "source": [
    "## L'évolution moyenne de la température chaque mois de l'année de chaque région du globe"
   ],
   "cell_type": "markdown",
   "metadata": {}
  },
  {
   "cell_type": "code",
   "execution_count": null,
   "metadata": {},
   "outputs": [],
   "source": [
    "local_globe = pd.read_csv('./data/RAW/temperatures_filtre.csv')"
   ]
  },
  {
   "cell_type": "code",
   "execution_count": null,
   "metadata": {},
   "outputs": [],
   "source": [
    "local_globe = local_globe[['Region', 'Month', 'AvgTemperature']].groupby(['Region', 'Month']).agg({'AvgTemperature': 'mean'})"
   ]
  },
  {
   "cell_type": "code",
   "execution_count": null,
   "metadata": {},
   "outputs": [],
   "source": [
    "fig, axs = plt.subplots(ncols=3, nrows=3, sharex='col', sharey=True, gridspec_kw={'hspace': 1, 'wspace': 0.10})\n",
    "fig.suptitle(\"L'évolution moyenne de la température chaque mois de l'année de chaque région du globe\")\n",
    "fig.legend\n",
    "\n",
    "axs = axs.flat\n",
    "\n",
    "for region, ax in zip(local_region, axs):\n",
    "    ax.set_title(region[0])\n",
    "    region[1].groupby('Month').agg({'AvgTemperature': 'mean'}).plot(ax=ax, label=True)\n",
    "    ax.get_legend().remove()\n",
    "\n",
    "plt.show()"
   ]
  },
  {
   "source": [
    "## Le classement graphique des pays les plus chauds au monde"
   ],
   "cell_type": "markdown",
   "metadata": {}
  },
  {
   "cell_type": "code",
   "execution_count": null,
   "metadata": {},
   "outputs": [],
   "source": [
    "local_chaud = pd.read_csv('./data/RAW/temperatures_filtre.csv')"
   ]
  },
  {
   "cell_type": "code",
   "execution_count": null,
   "metadata": {},
   "outputs": [],
   "source": [
    "local_chaud = local_chaud.drop(columns = ['Unnamed: 0', 'Region', 'State', 'City', 'Year', 'Month', 'Day'], axis = 1)"
   ]
  },
  {
   "cell_type": "code",
   "execution_count": null,
   "metadata": {},
   "outputs": [],
   "source": [
    "local_chaud = local_chaud[['Country', 'AvgTemperature']].groupby('Country').agg({'AvgTemperature': 'mean'})"
   ]
  },
  {
   "cell_type": "code",
   "execution_count": null,
   "metadata": {},
   "outputs": [],
   "source": [
    "local_chaud = local_chaud.sort_values(by = 'AvgTemperature', ascending = False)[:5]"
   ]
  },
  {
   "cell_type": "code",
   "execution_count": null,
   "metadata": {},
   "outputs": [],
   "source": [
    "plt.plot(local_chaud['AvgTemperature'], linewidth=0, marker='o')\n",
    "plt.xlabel('Pays')\n",
    "plt.ylabel('Températures moyennes')\n",
    "plt.title('Top 5 des pays les plus chauds au monde')\n",
    "plt.show()"
   ]
  },
  {
   "source": [
    "## Le classement graphique des pays les plus froids au monde"
   ],
   "cell_type": "markdown",
   "metadata": {}
  },
  {
   "cell_type": "code",
   "execution_count": null,
   "metadata": {},
   "outputs": [],
   "source": [
    "local_froid = pd.read_csv('./data/RAW/temperatures_filtre.csv')"
   ]
  },
  {
   "cell_type": "code",
   "execution_count": null,
   "metadata": {},
   "outputs": [],
   "source": [
    "local_froid = local_froid.drop(columns = ['Unnamed: 0', 'Region', 'State', 'City', 'Year', 'Month', 'Day'], axis = 1)"
   ]
  },
  {
   "cell_type": "code",
   "execution_count": null,
   "metadata": {},
   "outputs": [],
   "source": [
    "local_froid = local_froid[['Country', 'AvgTemperature']].groupby('Country').agg({'AvgTemperature': 'mean'})"
   ]
  },
  {
   "cell_type": "code",
   "execution_count": null,
   "metadata": {},
   "outputs": [],
   "source": [
    "local_froid = local_froid.sort_values(by = 'AvgTemperature', ascending = True)[:5]"
   ]
  },
  {
   "cell_type": "code",
   "execution_count": null,
   "metadata": {},
   "outputs": [],
   "source": [
    "plt.plot(local_froid['AvgTemperature'], linewidth=0, marker='o')\n",
    "plt.xlabel('Pays')\n",
    "plt.ylabel('Températures moyennes')\n",
    "plt.title('Top 5 des pays les plus froids au monde')\n",
    "plt.show()"
   ]
  },
  {
   "source": [
    "## L'évolution des températures entre le pays le plus chaud et le pays le plus froid de 1995 à 2019 sur un même graphique"
   ],
   "cell_type": "markdown",
   "metadata": {}
  },
  {
   "cell_type": "code",
   "execution_count": null,
   "metadata": {},
   "outputs": [],
   "source": [
    "local_haiti = pd.read_csv('./data/CURATED/Country/Haiti.csv')\n",
    "local_mongolie = pd.read_csv('./data/CURATED/Country/Mongolia.csv')"
   ]
  },
  {
   "cell_type": "code",
   "execution_count": null,
   "metadata": {},
   "outputs": [],
   "source": [
    "local_haiti = local_haiti.drop(columns = ['Unnamed: 0', 'Region', 'State', 'City', 'Month', 'Day'], axis = 1)\n",
    "local_mongolie = local_mongolie.drop(columns = ['Unnamed: 0', 'Region', 'State', 'City', 'Month', 'Day'], axis = 1)"
   ]
  },
  {
   "cell_type": "code",
   "execution_count": null,
   "metadata": {},
   "outputs": [],
   "source": [
    "local_haiti = local_haiti[['Country', 'Year', 'AvgTemperature']].groupby('Year').agg({'AvgTemperature': 'mean'})\n",
    "local_mongolie = local_mongolie[['Country', 'Year', 'AvgTemperature']].groupby('Year').agg({'AvgTemperature': 'mean'})"
   ]
  },
  {
   "cell_type": "code",
   "execution_count": null,
   "metadata": {},
   "outputs": [],
   "source": [
    "local_mongolie = local_mongolie[local_mongolie.index != 1998]"
   ]
  },
  {
   "cell_type": "code",
   "execution_count": null,
   "metadata": {},
   "outputs": [],
   "source": [
    "position = np.arange(len(local_haiti.index))\n",
    "\n",
    "largeur = .50\n",
    "\n",
    "fig, ax = plt.subplots()\n",
    "r1 = ax.bar(position - largeur/2, local_haiti['AvgTemperature'], largeur, label = \"Haiti\")\n",
    "r2 = ax.bar(position + largeur/2, local_mongolie['AvgTemperature'], largeur, label = \"Mongolie\")\n",
    "\n",
    "ax.set_xticks(position)\n",
    "ax.set_xticklabels(local_mongolie.index)\n",
    "\n",
    "plt.title(\"L'évolution des températures entre Haiti et la Mongolie de 1995 à 2019\")\n",
    "plt.xlabel(\"Années\")\n",
    "plt.ylabel(\"Températures moyennes\")\n",
    "plt.legend(loc=\"center right\")\n",
    "plt.xticks(rotation=90)\n",
    "\n",
    "plt.show()"
   ]
  },
  {
   "source": [
    "## L'évolution de la température moyenne de la ville de Paris."
   ],
   "cell_type": "markdown",
   "metadata": {}
  },
  {
   "cell_type": "code",
   "execution_count": null,
   "metadata": {},
   "outputs": [],
   "source": [
    "local_paris = pd.read_csv('./data/CURATED/Country/France.csv')"
   ]
  },
  {
   "cell_type": "code",
   "execution_count": null,
   "metadata": {},
   "outputs": [],
   "source": [
    "local_paris = local_paris.drop(columns = ['Unnamed: 0', 'Region', 'State', 'Country', 'Month', 'Day'], axis = 1)"
   ]
  },
  {
   "cell_type": "code",
   "execution_count": null,
   "metadata": {},
   "outputs": [],
   "source": [
    "local_paris = local_paris[local_paris['City'] == 'Paris']"
   ]
  },
  {
   "cell_type": "code",
   "execution_count": null,
   "metadata": {},
   "outputs": [],
   "source": [
    "local_paris = local_paris[['City', 'Year', 'AvgTemperature']].groupby('Year').agg({'AvgTemperature': 'mean'})"
   ]
  },
  {
   "cell_type": "code",
   "execution_count": null,
   "metadata": {},
   "outputs": [],
   "source": [
    "plt.plot(local_paris['AvgTemperature'])\n",
    "plt.xlabel('Années')\n",
    "plt.ylabel('Températures moyennes')\n",
    "plt.title('Les températures moyennes de la ville de Paris de 1995 à 2019')\n",
    "plt.show()"
   ]
  },
  {
   "cell_type": "code",
   "execution_count": null,
   "metadata": {},
   "outputs": [],
   "source": []
  }
 ]
}
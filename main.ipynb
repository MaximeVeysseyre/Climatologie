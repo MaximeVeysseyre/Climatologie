{
 "metadata": {
  "language_info": {
   "codemirror_mode": {
    "name": "ipython",
    "version": 3
   },
   "file_extension": ".py",
   "mimetype": "text/x-python",
   "name": "python",
   "nbconvert_exporter": "python",
   "pygments_lexer": "ipython3",
   "version": "3.7.6-final"
  },
  "orig_nbformat": 2,
  "kernelspec": {
   "name": "python3",
   "display_name": "Python 3"
  }
 },
 "nbformat": 4,
 "nbformat_minor": 2,
 "cells": [
  {
   "source": [
    "# Projet Climatologie\n"
   ],
   "cell_type": "markdown",
   "metadata": {}
  },
  {
   "source": [
    "## Liste des requêtes\n",
    "\n",
    "\n",
    "- Les températures moyennes françaises de 1995 à 2019.\n",
    "\n",
    "- L'évolution moyenne de la témparature chaque mois de l'année (sur toutes les années donc) de chaque région du globe (à l'aide de subplots, soit plusieurs diagrammes sur un seul affichage).\n",
    "\n",
    "- Le classement graphique des pays les plus chauds au monde.\n",
    "\n",
    "- Le classement graphique des pays les plus froids au monde.\n",
    "\n",
    "- L'évolution des températures entre le pays le plus chaud et le pays le plus froid de 1995 à 2019 sur un même graphique.\n",
    "\n",
    "- L'évolution de la température moyenne de la ville de Paris.\n",
    "\n",
    "- La température moyenne de chaque pays sur une carte sur la période 2010-2019.\n",
    "\n"
   ],
   "cell_type": "markdown",
   "metadata": {}
  },
  {
   "source": [
    "## Structure du jeu de données source\n",
    "\n",
    "Region / Country / State / City / Month / Day / Year / AvgTemperature"
   ],
   "cell_type": "markdown",
   "metadata": {}
  },
  {
   "source": [
    "## Import des librairies"
   ],
   "cell_type": "markdown",
   "metadata": {}
  },
  {
   "cell_type": "code",
   "execution_count": null,
   "metadata": {},
   "outputs": [],
   "source": [
    "# IPython extension reloading modules before user enters code.\n",
    "%load_ext autoreload\n",
    "%autoreload 2\n",
    "\n",
    "import pandas as pd\n",
    "import matplotlib.pyplot as plt\n",
    "import numpy as np\n",
    "\n",
    "from src.credentials import Credentials as cr\n",
    "import src.split_datas as sd"
   ]
  },
  {
   "source": [
    "## Séparation des données"
   ],
   "cell_type": "markdown",
   "metadata": {}
  },
  {
   "cell_type": "code",
   "execution_count": null,
   "metadata": {},
   "outputs": [],
   "source": [
    "sd.split_datas(cr.TEMPERATURES, 'Country')"
   ]
  },
  {
   "source": [
    "## Les températures moyennes françaises de 1995 à 2019"
   ],
   "cell_type": "markdown",
   "metadata": {}
  },
  {
   "cell_type": "code",
   "execution_count": null,
   "metadata": {},
   "outputs": [],
   "source": [
    "global_france = pd.read_csv(\"./data/CURATED/Country/France.csv\", usecols = ['City', 'Month', 'Day', 'Year', 'AvgTemperature'])"
   ]
  },
  {
   "cell_type": "code",
   "execution_count": null,
   "metadata": {},
   "outputs": [],
   "source": [
    "global_france.describe()"
   ]
  },
  {
   "cell_type": "code",
   "execution_count": 7,
   "metadata": {},
   "outputs": [],
   "source": [
    "# Conversion des degrés Fahrenheit en degrés Celsius.\n",
    "global_france['AvgTemperature'] = (global_france['AvgTemperature'] - 32) / 1.8"
   ]
  },
  {
   "cell_type": "code",
   "execution_count": null,
   "metadata": {},
   "outputs": [],
   "source": []
  }
 ]
}
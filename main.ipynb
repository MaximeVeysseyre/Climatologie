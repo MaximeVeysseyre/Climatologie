{
 "metadata": {
  "language_info": {
   "codemirror_mode": {
    "name": "ipython",
    "version": 3
   },
   "file_extension": ".py",
   "mimetype": "text/x-python",
   "name": "python",
   "nbconvert_exporter": "python",
   "pygments_lexer": "ipython3",
   "version": "3.7.9-final"
  },
  "orig_nbformat": 2,
  "kernelspec": {
   "name": "python3",
   "display_name": "Python 3.7.9 64-bit ('climatologie': conda)",
   "metadata": {
    "interpreter": {
     "hash": "fde7d512e2d3401f200f41ccb25a600ca19a911c1517cd7dc62060e4479e29f3"
    }
   }
  }
 },
 "nbformat": 4,
 "nbformat_minor": 2,
 "cells": [
  {
   "source": [
    "# Projet Climatologie\n"
   ],
   "cell_type": "markdown",
   "metadata": {}
  },
  {
   "source": [
    "## Liste des requêtes\n",
    "\n",
    "\n",
    "- Les températures moyennes françaises de 1995 à 2019.\n",
    "\n",
    "- L'évolution moyenne de la température chaque mois de l'année (sur toutes les années donc) de chaque région du globe (à l'aide de subplots, soit plusieurs diagrammes sur un seul affichage).\n",
    "\n",
    "- Le classement graphique des pays les plus chauds au monde.\n",
    "\n",
    "- Le classement graphique des pays les plus froids au monde.\n",
    "\n",
    "- L'évolution des températures entre le pays le plus chaud et le pays le plus froid de 1995 à 2019 sur un même graphique.\n",
    "\n",
    "- L'évolution de la température moyenne de la ville de Paris.\n",
    "\n",
    "- La température moyenne de chaque pays sur une carte sur la période 2010-2019.\n",
    "\n"
   ],
   "cell_type": "markdown",
   "metadata": {}
  },
  {
   "source": [
    "## Structure du jeu de données source\n",
    "\n",
    "Region / Country / State / City / Month / Day / Year / AvgTemperature"
   ],
   "cell_type": "markdown",
   "metadata": {}
  },
  {
   "source": [
    "## Import des librairies"
   ],
   "cell_type": "markdown",
   "metadata": {}
  },
  {
   "cell_type": "code",
   "execution_count": 1,
   "metadata": {},
   "outputs": [],
   "source": [
    "# IPython extension reloading modules before user enters code.\n",
    "%load_ext autoreload\n",
    "%autoreload 2\n",
    "\n",
    "import pandas as pd\n",
    "import matplotlib.pyplot as plt\n",
    "import numpy as np\n",
    "\n",
    "from src.credentials import Credentials as cr\n",
    "import src.split_datas as sd"
   ]
  },
  {
   "source": [
    "## Nettoyage du jeu de données"
   ],
   "cell_type": "markdown",
   "metadata": {}
  },
  {
   "cell_type": "code",
   "execution_count": 2,
   "metadata": {},
   "outputs": [],
   "source": [
    "global_temperatures = pd.read_csv(\"./data/RAW/temperatures.csv\", delimiter = ',')"
   ]
  },
  {
   "cell_type": "code",
   "execution_count": null,
   "metadata": {},
   "outputs": [],
   "source": [
    "global_temperatures.describe()"
   ]
  },
  {
   "cell_type": "code",
   "execution_count": 3,
   "metadata": {},
   "outputs": [],
   "source": [
    "# Conversion des degrés Fahrenheit en degrés Celsius.\n",
    "global_temperatures['AvgTemperature'] = (global_temperatures['AvgTemperature'] - 32) / 1.8"
   ]
  },
  {
   "cell_type": "code",
   "execution_count": 4,
   "metadata": {},
   "outputs": [],
   "source": [
    "# Nettoyage des données aberrantes.\n",
    "global_temperatures = global_temperatures[global_temperatures['AvgTemperature'] > -72]"
   ]
  },
  {
   "cell_type": "code",
   "execution_count": 5,
   "metadata": {},
   "outputs": [],
   "source": [
    "# Nous n'avons pas besoin de l'année 2020 dans ce projet.\n",
    "global_temperatures = global_temperatures[global_temperatures['Year'] <= 2019]"
   ]
  },
  {
   "cell_type": "code",
   "execution_count": 6,
   "metadata": {},
   "outputs": [],
   "source": [
    "global_temperatures['Region'][global_temperatures['Region'] == 'North America'] = 'NorthAmerica'\n",
    "global_temperatures['Region'][global_temperatures['Region'] == 'South/Central America & Carribean'] = 'SouthCentralAmericaCarribean'\n",
    "global_temperatures['Region'][global_temperatures['Region'] == 'Middle East'] = 'MiddleEast'\n",
    "global_temperatures['Region'][global_temperatures['Region'] == 'Australia/South Pacific'] = 'AustraliaSouthPacific'"
   ]
  },
  {
   "cell_type": "code",
   "execution_count": 8,
   "metadata": {},
   "outputs": [],
   "source": [
    "global_temperatures.to_csv(\"./data/RAW/temperatures_filtre.csv\")"
   ]
  },
  {
   "source": [
    "## Séparation des données"
   ],
   "cell_type": "markdown",
   "metadata": {}
  },
  {
   "cell_type": "code",
   "execution_count": 10,
   "metadata": {},
   "outputs": [
    {
     "output_type": "stream",
     "name": "stdout",
     "text": [
      "c:\\Users\\utilisateur\\Desktop\\Climatologie\\data\\CURATED\\Country\\\n",
      "c:\\Users\\utilisateur\\Desktop\\Climatologie\\data\\CURATED\\Country\\Algeria.csv\n",
      "c:\\Users\\utilisateur\\Desktop\\Climatologie\\data\\CURATED\\Country\\Burundi.csv\n",
      "c:\\Users\\utilisateur\\Desktop\\Climatologie\\data\\CURATED\\Country\\Benin.csv\n",
      "c:\\Users\\utilisateur\\Desktop\\Climatologie\\data\\CURATED\\Country\\Central African Republic.csv\n",
      "c:\\Users\\utilisateur\\Desktop\\Climatologie\\data\\CURATED\\Country\\Congo.csv\n",
      "c:\\Users\\utilisateur\\Desktop\\Climatologie\\data\\CURATED\\Country\\Egypt.csv\n",
      "c:\\Users\\utilisateur\\Desktop\\Climatologie\\data\\CURATED\\Country\\Ethiopia.csv\n",
      "c:\\Users\\utilisateur\\Desktop\\Climatologie\\data\\CURATED\\Country\\Gabon.csv\n",
      "c:\\Users\\utilisateur\\Desktop\\Climatologie\\data\\CURATED\\Country\\Gambia.csv\n",
      "c:\\Users\\utilisateur\\Desktop\\Climatologie\\data\\CURATED\\Country\\Guinea.csv\n",
      "c:\\Users\\utilisateur\\Desktop\\Climatologie\\data\\CURATED\\Country\\Guinea-Bissau.csv\n",
      "c:\\Users\\utilisateur\\Desktop\\Climatologie\\data\\CURATED\\Country\\Ivory Coast.csv\n",
      "c:\\Users\\utilisateur\\Desktop\\Climatologie\\data\\CURATED\\Country\\Kenya.csv\n",
      "c:\\Users\\utilisateur\\Desktop\\Climatologie\\data\\CURATED\\Country\\Morocco.csv\n",
      "c:\\Users\\utilisateur\\Desktop\\Climatologie\\data\\CURATED\\Country\\Madagascar.csv\n",
      "c:\\Users\\utilisateur\\Desktop\\Climatologie\\data\\CURATED\\Country\\Mauritania.csv\n",
      "c:\\Users\\utilisateur\\Desktop\\Climatologie\\data\\CURATED\\Country\\Malawi.csv\n",
      "c:\\Users\\utilisateur\\Desktop\\Climatologie\\data\\CURATED\\Country\\Mozambique.csv\n",
      "c:\\Users\\utilisateur\\Desktop\\Climatologie\\data\\CURATED\\Country\\Namibia.csv\n",
      "c:\\Users\\utilisateur\\Desktop\\Climatologie\\data\\CURATED\\Country\\Nigeria.csv\n",
      "c:\\Users\\utilisateur\\Desktop\\Climatologie\\data\\CURATED\\Country\\Senegal.csv\n",
      "c:\\Users\\utilisateur\\Desktop\\Climatologie\\data\\CURATED\\Country\\Sierra Leone.csv\n",
      "c:\\Users\\utilisateur\\Desktop\\Climatologie\\data\\CURATED\\Country\\South Africa.csv\n",
      "c:\\Users\\utilisateur\\Desktop\\Climatologie\\data\\CURATED\\Country\\Togo.csv\n",
      "c:\\Users\\utilisateur\\Desktop\\Climatologie\\data\\CURATED\\Country\\Tunisia.csv\n",
      "c:\\Users\\utilisateur\\Desktop\\Climatologie\\data\\CURATED\\Country\\Tanzania.csv\n",
      "c:\\Users\\utilisateur\\Desktop\\Climatologie\\data\\CURATED\\Country\\Uganda.csv\n",
      "c:\\Users\\utilisateur\\Desktop\\Climatologie\\data\\CURATED\\Country\\Zambia.csv\n",
      "c:\\Users\\utilisateur\\Desktop\\Climatologie\\data\\CURATED\\Country\\Bangladesh.csv\n",
      "c:\\Users\\utilisateur\\Desktop\\Climatologie\\data\\CURATED\\Country\\China.csv\n",
      "c:\\Users\\utilisateur\\Desktop\\Climatologie\\data\\CURATED\\Country\\Hong Kong.csv\n",
      "c:\\Users\\utilisateur\\Desktop\\Climatologie\\data\\CURATED\\Country\\India.csv\n",
      "c:\\Users\\utilisateur\\Desktop\\Climatologie\\data\\CURATED\\Country\\Indonesia.csv\n",
      "c:\\Users\\utilisateur\\Desktop\\Climatologie\\data\\CURATED\\Country\\Japan.csv\n",
      "c:\\Users\\utilisateur\\Desktop\\Climatologie\\data\\CURATED\\Country\\Kazakhstan.csv\n",
      "c:\\Users\\utilisateur\\Desktop\\Climatologie\\data\\CURATED\\Country\\Kyrgyzstan.csv\n",
      "c:\\Users\\utilisateur\\Desktop\\Climatologie\\data\\CURATED\\Country\\Laos.csv\n",
      "c:\\Users\\utilisateur\\Desktop\\Climatologie\\data\\CURATED\\Country\\Malaysia.csv\n",
      "c:\\Users\\utilisateur\\Desktop\\Climatologie\\data\\CURATED\\Country\\Mongolia.csv\n",
      "c:\\Users\\utilisateur\\Desktop\\Climatologie\\data\\CURATED\\Country\\Myanmar (Burma).csv\n",
      "c:\\Users\\utilisateur\\Desktop\\Climatologie\\data\\CURATED\\Country\\Nepal.csv\n",
      "c:\\Users\\utilisateur\\Desktop\\Climatologie\\data\\CURATED\\Country\\North Korea.csv\n",
      "c:\\Users\\utilisateur\\Desktop\\Climatologie\\data\\CURATED\\Country\\Pakistan.csv\n",
      "c:\\Users\\utilisateur\\Desktop\\Climatologie\\data\\CURATED\\Country\\Philippines.csv\n",
      "c:\\Users\\utilisateur\\Desktop\\Climatologie\\data\\CURATED\\Country\\Singapore.csv\n",
      "c:\\Users\\utilisateur\\Desktop\\Climatologie\\data\\CURATED\\Country\\South Korea.csv\n",
      "c:\\Users\\utilisateur\\Desktop\\Climatologie\\data\\CURATED\\Country\\Sri Lanka.csv\n",
      "c:\\Users\\utilisateur\\Desktop\\Climatologie\\data\\CURATED\\Country\\Taiwan.csv\n",
      "c:\\Users\\utilisateur\\Desktop\\Climatologie\\data\\CURATED\\Country\\Tajikistan.csv\n",
      "c:\\Users\\utilisateur\\Desktop\\Climatologie\\data\\CURATED\\Country\\Thailand.csv\n",
      "c:\\Users\\utilisateur\\Desktop\\Climatologie\\data\\CURATED\\Country\\Turkmenistan.csv\n",
      "c:\\Users\\utilisateur\\Desktop\\Climatologie\\data\\CURATED\\Country\\Uzbekistan.csv\n",
      "c:\\Users\\utilisateur\\Desktop\\Climatologie\\data\\CURATED\\Country\\Vietnam.csv\n",
      "c:\\Users\\utilisateur\\Desktop\\Climatologie\\data\\CURATED\\Country\\Australia.csv\n",
      "c:\\Users\\utilisateur\\Desktop\\Climatologie\\data\\CURATED\\Country\\New Zealand.csv\n",
      "c:\\Users\\utilisateur\\Desktop\\Climatologie\\data\\CURATED\\Country\\Albania.csv\n",
      "c:\\Users\\utilisateur\\Desktop\\Climatologie\\data\\CURATED\\Country\\Austria.csv\n",
      "c:\\Users\\utilisateur\\Desktop\\Climatologie\\data\\CURATED\\Country\\Belarus.csv\n",
      "c:\\Users\\utilisateur\\Desktop\\Climatologie\\data\\CURATED\\Country\\Belgium.csv\n",
      "c:\\Users\\utilisateur\\Desktop\\Climatologie\\data\\CURATED\\Country\\Bulgaria.csv\n",
      "c:\\Users\\utilisateur\\Desktop\\Climatologie\\data\\CURATED\\Country\\Croatia.csv\n",
      "c:\\Users\\utilisateur\\Desktop\\Climatologie\\data\\CURATED\\Country\\Cyprus.csv\n",
      "c:\\Users\\utilisateur\\Desktop\\Climatologie\\data\\CURATED\\Country\\Czech Republic.csv\n",
      "c:\\Users\\utilisateur\\Desktop\\Climatologie\\data\\CURATED\\Country\\Denmark.csv\n",
      "c:\\Users\\utilisateur\\Desktop\\Climatologie\\data\\CURATED\\Country\\Finland.csv\n",
      "c:\\Users\\utilisateur\\Desktop\\Climatologie\\data\\CURATED\\Country\\France.csv\n",
      "c:\\Users\\utilisateur\\Desktop\\Climatologie\\data\\CURATED\\Country\\Germany.csv\n",
      "c:\\Users\\utilisateur\\Desktop\\Climatologie\\data\\CURATED\\Country\\Georgia.csv\n",
      "c:\\Users\\utilisateur\\Desktop\\Climatologie\\data\\CURATED\\Country\\Greece.csv\n",
      "c:\\Users\\utilisateur\\Desktop\\Climatologie\\data\\CURATED\\Country\\Hungary.csv\n",
      "c:\\Users\\utilisateur\\Desktop\\Climatologie\\data\\CURATED\\Country\\Iceland.csv\n",
      "c:\\Users\\utilisateur\\Desktop\\Climatologie\\data\\CURATED\\Country\\Ireland.csv\n",
      "c:\\Users\\utilisateur\\Desktop\\Climatologie\\data\\CURATED\\Country\\Italy.csv\n",
      "c:\\Users\\utilisateur\\Desktop\\Climatologie\\data\\CURATED\\Country\\Latvia.csv\n",
      "c:\\Users\\utilisateur\\Desktop\\Climatologie\\data\\CURATED\\Country\\Macedonia.csv\n",
      "c:\\Users\\utilisateur\\Desktop\\Climatologie\\data\\CURATED\\Country\\The Netherlands.csv\n",
      "c:\\Users\\utilisateur\\Desktop\\Climatologie\\data\\CURATED\\Country\\Norway.csv\n",
      "c:\\Users\\utilisateur\\Desktop\\Climatologie\\data\\CURATED\\Country\\Poland.csv\n",
      "c:\\Users\\utilisateur\\Desktop\\Climatologie\\data\\CURATED\\Country\\Portugal.csv\n",
      "c:\\Users\\utilisateur\\Desktop\\Climatologie\\data\\CURATED\\Country\\Romania.csv\n",
      "c:\\Users\\utilisateur\\Desktop\\Climatologie\\data\\CURATED\\Country\\Russia.csv\n",
      "c:\\Users\\utilisateur\\Desktop\\Climatologie\\data\\CURATED\\Country\\Serbia-Montenegro.csv\n",
      "c:\\Users\\utilisateur\\Desktop\\Climatologie\\data\\CURATED\\Country\\Slovakia.csv\n",
      "c:\\Users\\utilisateur\\Desktop\\Climatologie\\data\\CURATED\\Country\\Spain.csv\n",
      "c:\\Users\\utilisateur\\Desktop\\Climatologie\\data\\CURATED\\Country\\Sweden.csv\n",
      "c:\\Users\\utilisateur\\Desktop\\Climatologie\\data\\CURATED\\Country\\Switzerland.csv\n",
      "c:\\Users\\utilisateur\\Desktop\\Climatologie\\data\\CURATED\\Country\\Ukraine.csv\n",
      "c:\\Users\\utilisateur\\Desktop\\Climatologie\\data\\CURATED\\Country\\United Kingdom.csv\n",
      "c:\\Users\\utilisateur\\Desktop\\Climatologie\\data\\CURATED\\Country\\Yugoslavia.csv\n",
      "c:\\Users\\utilisateur\\Desktop\\Climatologie\\data\\CURATED\\Country\\Bahrain.csv\n",
      "c:\\Users\\utilisateur\\Desktop\\Climatologie\\data\\CURATED\\Country\\Israel.csv\n",
      "c:\\Users\\utilisateur\\Desktop\\Climatologie\\data\\CURATED\\Country\\Jordan.csv\n",
      "c:\\Users\\utilisateur\\Desktop\\Climatologie\\data\\CURATED\\Country\\Kuwait.csv\n",
      "c:\\Users\\utilisateur\\Desktop\\Climatologie\\data\\CURATED\\Country\\Lebanon.csv\n",
      "c:\\Users\\utilisateur\\Desktop\\Climatologie\\data\\CURATED\\Country\\Oman.csv\n",
      "c:\\Users\\utilisateur\\Desktop\\Climatologie\\data\\CURATED\\Country\\Qatar.csv\n",
      "c:\\Users\\utilisateur\\Desktop\\Climatologie\\data\\CURATED\\Country\\Saudi Arabia.csv\n",
      "c:\\Users\\utilisateur\\Desktop\\Climatologie\\data\\CURATED\\Country\\Syria.csv\n",
      "c:\\Users\\utilisateur\\Desktop\\Climatologie\\data\\CURATED\\Country\\Turkey.csv\n",
      "c:\\Users\\utilisateur\\Desktop\\Climatologie\\data\\CURATED\\Country\\United Arab Emirates.csv\n",
      "c:\\Users\\utilisateur\\Desktop\\Climatologie\\data\\CURATED\\Country\\Canada.csv\n",
      "c:\\Users\\utilisateur\\Desktop\\Climatologie\\data\\CURATED\\Country\\Mexico.csv\n",
      "c:\\Users\\utilisateur\\Desktop\\Climatologie\\data\\CURATED\\Country\\Argentina.csv\n",
      "c:\\Users\\utilisateur\\Desktop\\Climatologie\\data\\CURATED\\Country\\Bahamas.csv\n",
      "c:\\Users\\utilisateur\\Desktop\\Climatologie\\data\\CURATED\\Country\\Bermuda.csv\n",
      "c:\\Users\\utilisateur\\Desktop\\Climatologie\\data\\CURATED\\Country\\Belize.csv\n",
      "c:\\Users\\utilisateur\\Desktop\\Climatologie\\data\\CURATED\\Country\\Bolivia.csv\n",
      "c:\\Users\\utilisateur\\Desktop\\Climatologie\\data\\CURATED\\Country\\Barbados.csv\n",
      "c:\\Users\\utilisateur\\Desktop\\Climatologie\\data\\CURATED\\Country\\Brazil.csv\n",
      "c:\\Users\\utilisateur\\Desktop\\Climatologie\\data\\CURATED\\Country\\Colombia.csv\n",
      "c:\\Users\\utilisateur\\Desktop\\Climatologie\\data\\CURATED\\Country\\Costa Rica.csv\n",
      "c:\\Users\\utilisateur\\Desktop\\Climatologie\\data\\CURATED\\Country\\Cuba.csv\n",
      "c:\\Users\\utilisateur\\Desktop\\Climatologie\\data\\CURATED\\Country\\Dominican Republic.csv\n",
      "c:\\Users\\utilisateur\\Desktop\\Climatologie\\data\\CURATED\\Country\\Equador.csv\n",
      "c:\\Users\\utilisateur\\Desktop\\Climatologie\\data\\CURATED\\Country\\Guatemala.csv\n",
      "c:\\Users\\utilisateur\\Desktop\\Climatologie\\data\\CURATED\\Country\\Guyana.csv\n",
      "c:\\Users\\utilisateur\\Desktop\\Climatologie\\data\\CURATED\\Country\\Haiti.csv\n",
      "c:\\Users\\utilisateur\\Desktop\\Climatologie\\data\\CURATED\\Country\\Honduras.csv\n",
      "c:\\Users\\utilisateur\\Desktop\\Climatologie\\data\\CURATED\\Country\\Nicaragua.csv\n",
      "c:\\Users\\utilisateur\\Desktop\\Climatologie\\data\\CURATED\\Country\\Panama.csv\n",
      "c:\\Users\\utilisateur\\Desktop\\Climatologie\\data\\CURATED\\Country\\Peru.csv\n",
      "c:\\Users\\utilisateur\\Desktop\\Climatologie\\data\\CURATED\\Country\\Suriname.csv\n",
      "c:\\Users\\utilisateur\\Desktop\\Climatologie\\data\\CURATED\\Country\\Uruguay.csv\n",
      "c:\\Users\\utilisateur\\Desktop\\Climatologie\\data\\CURATED\\Country\\Venezuela.csv\n",
      "c:\\Users\\utilisateur\\Desktop\\Climatologie\\data\\CURATED\\Country\\US.csv\n"
     ]
    }
   ],
   "source": [
    "sd.split_datas(cr.TEMPERATURES_FILTRE, 'Country')"
   ]
  },
  {
   "cell_type": "code",
   "execution_count": 11,
   "metadata": {},
   "outputs": [
    {
     "output_type": "stream",
     "name": "stdout",
     "text": [
      "c:\\Users\\utilisateur\\Desktop\\Climatologie\\data\\CURATED\\Region\\\n",
      "c:\\Users\\utilisateur\\Desktop\\Climatologie\\data\\CURATED\\Region\\Africa.csv\n",
      "c:\\Users\\utilisateur\\Desktop\\Climatologie\\data\\CURATED\\Region\\Asia.csv\n",
      "c:\\Users\\utilisateur\\Desktop\\Climatologie\\data\\CURATED\\Region\\AustraliaSouthPacific.csv\n",
      "c:\\Users\\utilisateur\\Desktop\\Climatologie\\data\\CURATED\\Region\\Europe.csv\n",
      "c:\\Users\\utilisateur\\Desktop\\Climatologie\\data\\CURATED\\Region\\MiddleEast.csv\n",
      "c:\\Users\\utilisateur\\Desktop\\Climatologie\\data\\CURATED\\Region\\NorthAmerica.csv\n",
      "c:\\Users\\utilisateur\\Desktop\\Climatologie\\data\\CURATED\\Region\\SouthCentralAmericaCarribean.csv\n"
     ]
    }
   ],
   "source": [
    "sd.split_datas(cr.TEMPERATURES_FILTRE, 'Region')"
   ]
  },
  {
   "source": [
    "## Les températures moyennes françaises de 1995 à 2019"
   ],
   "cell_type": "markdown",
   "metadata": {}
  },
  {
   "cell_type": "code",
   "execution_count": 12,
   "metadata": {},
   "outputs": [],
   "source": [
    "local_france = pd.read_csv(\"./data/CURATED/Country/France.csv\", sep=',', encoding='utf-8')"
   ]
  },
  {
   "cell_type": "code",
   "execution_count": 13,
   "metadata": {},
   "outputs": [],
   "source": [
    "local_france = local_france.drop('Unnamed: 0', axis = 1)"
   ]
  },
  {
   "cell_type": "code",
   "execution_count": 14,
   "metadata": {},
   "outputs": [],
   "source": [
    "local_france[['Region', 'Country', 'State', 'City']] = local_france[['Region', 'Country', 'State', 'City']].astype('string')"
   ]
  },
  {
   "cell_type": "code",
   "execution_count": 15,
   "metadata": {},
   "outputs": [
    {
     "output_type": "execute_result",
     "data": {
      "text/plain": [
       "Region             string\n",
       "Country            string\n",
       "State              string\n",
       "City               string\n",
       "Month               int64\n",
       "Day                 int64\n",
       "Year                int64\n",
       "AvgTemperature    float64\n",
       "dtype: object"
      ]
     },
     "metadata": {},
     "execution_count": 15
    }
   ],
   "source": [
    "local_france.dtypes"
   ]
  },
  {
   "cell_type": "code",
   "execution_count": 16,
   "metadata": {},
   "outputs": [],
   "source": [
    "local_france = local_france[['Year', 'AvgTemperature']].groupby('Year').agg({'AvgTemperature': 'mean'})"
   ]
  },
  {
   "cell_type": "code",
   "execution_count": 17,
   "metadata": {},
   "outputs": [
    {
     "output_type": "display_data",
     "data": {
      "text/plain": "<Figure size 432x288 with 1 Axes>",
      "image/svg+xml": "<?xml version=\"1.0\" encoding=\"utf-8\" standalone=\"no\"?>\r\n<!DOCTYPE svg PUBLIC \"-//W3C//DTD SVG 1.1//EN\"\r\n  \"http://www.w3.org/Graphics/SVG/1.1/DTD/svg11.dtd\">\r\n<!-- Created with matplotlib (https://matplotlib.org/) -->\r\n<svg height=\"277.794375pt\" version=\"1.1\" viewBox=\"0 0 409.094886 277.794375\" width=\"409.094886pt\" xmlns=\"http://www.w3.org/2000/svg\" xmlns:xlink=\"http://www.w3.org/1999/xlink\">\r\n <metadata>\r\n  <rdf:RDF xmlns:cc=\"http://creativecommons.org/ns#\" xmlns:dc=\"http://purl.org/dc/elements/1.1/\" xmlns:rdf=\"http://www.w3.org/1999/02/22-rdf-syntax-ns#\">\r\n   <cc:Work>\r\n    <dc:type rdf:resource=\"http://purl.org/dc/dcmitype/StillImage\"/>\r\n    <dc:date>2020-11-24T17:18:09.262534</dc:date>\r\n    <dc:format>image/svg+xml</dc:format>\r\n    <dc:creator>\r\n     <cc:Agent>\r\n      <dc:title>Matplotlib v3.3.2, https://matplotlib.org/</dc:title>\r\n     </cc:Agent>\r\n    </dc:creator>\r\n   </cc:Work>\r\n  </rdf:RDF>\r\n </metadata>\r\n <defs>\r\n  <style type=\"text/css\">*{stroke-linecap:butt;stroke-linejoin:round;}</style>\r\n </defs>\r\n <g id=\"figure_1\">\r\n  <g id=\"patch_1\">\r\n   <path d=\"M 0 277.794375 \r\nL 409.094886 277.794375 \r\nL 409.094886 0 \r\nL 0 0 \r\nz\r\n\" style=\"fill:none;\"/>\r\n  </g>\r\n  <g id=\"axes_1\">\r\n   <g id=\"patch_2\">\r\n    <path d=\"M 56.90625 240.238125 \r\nL 391.70625 240.238125 \r\nL 391.70625 22.798125 \r\nL 56.90625 22.798125 \r\nz\r\n\" style=\"fill:#ffffff;\"/>\r\n   </g>\r\n   <g id=\"matplotlib.axis_1\">\r\n    <g id=\"xtick_1\">\r\n     <g id=\"line2d_1\">\r\n      <defs>\r\n       <path d=\"M 0 0 \r\nL 0 3.5 \r\n\" id=\"m96ef7abb27\" style=\"stroke:#000000;stroke-width:0.8;\"/>\r\n      </defs>\r\n      <g>\r\n       <use style=\"stroke:#000000;stroke-width:0.8;\" x=\"72.124432\" xlink:href=\"#m96ef7abb27\" y=\"240.238125\"/>\r\n      </g>\r\n     </g>\r\n     <g id=\"text_1\">\r\n      <!-- 1995 -->\r\n      <g transform=\"translate(59.399432 254.836563)scale(0.1 -0.1)\">\r\n       <defs>\r\n        <path d=\"M 12.40625 8.296875 \r\nL 28.515625 8.296875 \r\nL 28.515625 63.921875 \r\nL 10.984375 60.40625 \r\nL 10.984375 69.390625 \r\nL 28.421875 72.90625 \r\nL 38.28125 72.90625 \r\nL 38.28125 8.296875 \r\nL 54.390625 8.296875 \r\nL 54.390625 0 \r\nL 12.40625 0 \r\nz\r\n\" id=\"DejaVuSans-49\"/>\r\n        <path d=\"M 10.984375 1.515625 \r\nL 10.984375 10.5 \r\nQ 14.703125 8.734375 18.5 7.8125 \r\nQ 22.3125 6.890625 25.984375 6.890625 \r\nQ 35.75 6.890625 40.890625 13.453125 \r\nQ 46.046875 20.015625 46.78125 33.40625 \r\nQ 43.953125 29.203125 39.59375 26.953125 \r\nQ 35.25 24.703125 29.984375 24.703125 \r\nQ 19.046875 24.703125 12.671875 31.3125 \r\nQ 6.296875 37.9375 6.296875 49.421875 \r\nQ 6.296875 60.640625 12.9375 67.421875 \r\nQ 19.578125 74.21875 30.609375 74.21875 \r\nQ 43.265625 74.21875 49.921875 64.515625 \r\nQ 56.59375 54.828125 56.59375 36.375 \r\nQ 56.59375 19.140625 48.40625 8.859375 \r\nQ 40.234375 -1.421875 26.421875 -1.421875 \r\nQ 22.703125 -1.421875 18.890625 -0.6875 \r\nQ 15.09375 0.046875 10.984375 1.515625 \r\nz\r\nM 30.609375 32.421875 \r\nQ 37.25 32.421875 41.125 36.953125 \r\nQ 45.015625 41.5 45.015625 49.421875 \r\nQ 45.015625 57.28125 41.125 61.84375 \r\nQ 37.25 66.40625 30.609375 66.40625 \r\nQ 23.96875 66.40625 20.09375 61.84375 \r\nQ 16.21875 57.28125 16.21875 49.421875 \r\nQ 16.21875 41.5 20.09375 36.953125 \r\nQ 23.96875 32.421875 30.609375 32.421875 \r\nz\r\n\" id=\"DejaVuSans-57\"/>\r\n        <path d=\"M 10.796875 72.90625 \r\nL 49.515625 72.90625 \r\nL 49.515625 64.59375 \r\nL 19.828125 64.59375 \r\nL 19.828125 46.734375 \r\nQ 21.96875 47.46875 24.109375 47.828125 \r\nQ 26.265625 48.1875 28.421875 48.1875 \r\nQ 40.625 48.1875 47.75 41.5 \r\nQ 54.890625 34.8125 54.890625 23.390625 \r\nQ 54.890625 11.625 47.5625 5.09375 \r\nQ 40.234375 -1.421875 26.90625 -1.421875 \r\nQ 22.3125 -1.421875 17.546875 -0.640625 \r\nQ 12.796875 0.140625 7.71875 1.703125 \r\nL 7.71875 11.625 \r\nQ 12.109375 9.234375 16.796875 8.0625 \r\nQ 21.484375 6.890625 26.703125 6.890625 \r\nQ 35.15625 6.890625 40.078125 11.328125 \r\nQ 45.015625 15.765625 45.015625 23.390625 \r\nQ 45.015625 31 40.078125 35.4375 \r\nQ 35.15625 39.890625 26.703125 39.890625 \r\nQ 22.75 39.890625 18.8125 39.015625 \r\nQ 14.890625 38.140625 10.796875 36.28125 \r\nz\r\n\" id=\"DejaVuSans-53\"/>\r\n       </defs>\r\n       <use xlink:href=\"#DejaVuSans-49\"/>\r\n       <use x=\"63.623047\" xlink:href=\"#DejaVuSans-57\"/>\r\n       <use x=\"127.246094\" xlink:href=\"#DejaVuSans-57\"/>\r\n       <use x=\"190.869141\" xlink:href=\"#DejaVuSans-53\"/>\r\n      </g>\r\n     </g>\r\n    </g>\r\n    <g id=\"xtick_2\">\r\n     <g id=\"line2d_2\">\r\n      <g>\r\n       <use style=\"stroke:#000000;stroke-width:0.8;\" x=\"135.533523\" xlink:href=\"#m96ef7abb27\" y=\"240.238125\"/>\r\n      </g>\r\n     </g>\r\n     <g id=\"text_2\">\r\n      <!-- 2000 -->\r\n      <g transform=\"translate(122.808523 254.836563)scale(0.1 -0.1)\">\r\n       <defs>\r\n        <path d=\"M 19.1875 8.296875 \r\nL 53.609375 8.296875 \r\nL 53.609375 0 \r\nL 7.328125 0 \r\nL 7.328125 8.296875 \r\nQ 12.9375 14.109375 22.625 23.890625 \r\nQ 32.328125 33.6875 34.8125 36.53125 \r\nQ 39.546875 41.84375 41.421875 45.53125 \r\nQ 43.3125 49.21875 43.3125 52.78125 \r\nQ 43.3125 58.59375 39.234375 62.25 \r\nQ 35.15625 65.921875 28.609375 65.921875 \r\nQ 23.96875 65.921875 18.8125 64.3125 \r\nQ 13.671875 62.703125 7.8125 59.421875 \r\nL 7.8125 69.390625 \r\nQ 13.765625 71.78125 18.9375 73 \r\nQ 24.125 74.21875 28.421875 74.21875 \r\nQ 39.75 74.21875 46.484375 68.546875 \r\nQ 53.21875 62.890625 53.21875 53.421875 \r\nQ 53.21875 48.921875 51.53125 44.890625 \r\nQ 49.859375 40.875 45.40625 35.40625 \r\nQ 44.1875 33.984375 37.640625 27.21875 \r\nQ 31.109375 20.453125 19.1875 8.296875 \r\nz\r\n\" id=\"DejaVuSans-50\"/>\r\n        <path d=\"M 31.78125 66.40625 \r\nQ 24.171875 66.40625 20.328125 58.90625 \r\nQ 16.5 51.421875 16.5 36.375 \r\nQ 16.5 21.390625 20.328125 13.890625 \r\nQ 24.171875 6.390625 31.78125 6.390625 \r\nQ 39.453125 6.390625 43.28125 13.890625 \r\nQ 47.125 21.390625 47.125 36.375 \r\nQ 47.125 51.421875 43.28125 58.90625 \r\nQ 39.453125 66.40625 31.78125 66.40625 \r\nz\r\nM 31.78125 74.21875 \r\nQ 44.046875 74.21875 50.515625 64.515625 \r\nQ 56.984375 54.828125 56.984375 36.375 \r\nQ 56.984375 17.96875 50.515625 8.265625 \r\nQ 44.046875 -1.421875 31.78125 -1.421875 \r\nQ 19.53125 -1.421875 13.0625 8.265625 \r\nQ 6.59375 17.96875 6.59375 36.375 \r\nQ 6.59375 54.828125 13.0625 64.515625 \r\nQ 19.53125 74.21875 31.78125 74.21875 \r\nz\r\n\" id=\"DejaVuSans-48\"/>\r\n       </defs>\r\n       <use xlink:href=\"#DejaVuSans-50\"/>\r\n       <use x=\"63.623047\" xlink:href=\"#DejaVuSans-48\"/>\r\n       <use x=\"127.246094\" xlink:href=\"#DejaVuSans-48\"/>\r\n       <use x=\"190.869141\" xlink:href=\"#DejaVuSans-48\"/>\r\n      </g>\r\n     </g>\r\n    </g>\r\n    <g id=\"xtick_3\">\r\n     <g id=\"line2d_3\">\r\n      <g>\r\n       <use style=\"stroke:#000000;stroke-width:0.8;\" x=\"198.942614\" xlink:href=\"#m96ef7abb27\" y=\"240.238125\"/>\r\n      </g>\r\n     </g>\r\n     <g id=\"text_3\">\r\n      <!-- 2005 -->\r\n      <g transform=\"translate(186.217614 254.836563)scale(0.1 -0.1)\">\r\n       <use xlink:href=\"#DejaVuSans-50\"/>\r\n       <use x=\"63.623047\" xlink:href=\"#DejaVuSans-48\"/>\r\n       <use x=\"127.246094\" xlink:href=\"#DejaVuSans-48\"/>\r\n       <use x=\"190.869141\" xlink:href=\"#DejaVuSans-53\"/>\r\n      </g>\r\n     </g>\r\n    </g>\r\n    <g id=\"xtick_4\">\r\n     <g id=\"line2d_4\">\r\n      <g>\r\n       <use style=\"stroke:#000000;stroke-width:0.8;\" x=\"262.351705\" xlink:href=\"#m96ef7abb27\" y=\"240.238125\"/>\r\n      </g>\r\n     </g>\r\n     <g id=\"text_4\">\r\n      <!-- 2010 -->\r\n      <g transform=\"translate(249.626705 254.836563)scale(0.1 -0.1)\">\r\n       <use xlink:href=\"#DejaVuSans-50\"/>\r\n       <use x=\"63.623047\" xlink:href=\"#DejaVuSans-48\"/>\r\n       <use x=\"127.246094\" xlink:href=\"#DejaVuSans-49\"/>\r\n       <use x=\"190.869141\" xlink:href=\"#DejaVuSans-48\"/>\r\n      </g>\r\n     </g>\r\n    </g>\r\n    <g id=\"xtick_5\">\r\n     <g id=\"line2d_5\">\r\n      <g>\r\n       <use style=\"stroke:#000000;stroke-width:0.8;\" x=\"325.760795\" xlink:href=\"#m96ef7abb27\" y=\"240.238125\"/>\r\n      </g>\r\n     </g>\r\n     <g id=\"text_5\">\r\n      <!-- 2015 -->\r\n      <g transform=\"translate(313.035795 254.836563)scale(0.1 -0.1)\">\r\n       <use xlink:href=\"#DejaVuSans-50\"/>\r\n       <use x=\"63.623047\" xlink:href=\"#DejaVuSans-48\"/>\r\n       <use x=\"127.246094\" xlink:href=\"#DejaVuSans-49\"/>\r\n       <use x=\"190.869141\" xlink:href=\"#DejaVuSans-53\"/>\r\n      </g>\r\n     </g>\r\n    </g>\r\n    <g id=\"xtick_6\">\r\n     <g id=\"line2d_6\">\r\n      <g>\r\n       <use style=\"stroke:#000000;stroke-width:0.8;\" x=\"389.169886\" xlink:href=\"#m96ef7abb27\" y=\"240.238125\"/>\r\n      </g>\r\n     </g>\r\n     <g id=\"text_6\">\r\n      <!-- 2020 -->\r\n      <g transform=\"translate(376.444886 254.836563)scale(0.1 -0.1)\">\r\n       <use xlink:href=\"#DejaVuSans-50\"/>\r\n       <use x=\"63.623047\" xlink:href=\"#DejaVuSans-48\"/>\r\n       <use x=\"127.246094\" xlink:href=\"#DejaVuSans-50\"/>\r\n       <use x=\"190.869141\" xlink:href=\"#DejaVuSans-48\"/>\r\n      </g>\r\n     </g>\r\n    </g>\r\n    <g id=\"text_7\">\r\n     <!-- Années -->\r\n     <g transform=\"translate(205.790625 268.514687)scale(0.1 -0.1)\">\r\n      <defs>\r\n       <path d=\"M 34.1875 63.1875 \r\nL 20.796875 26.90625 \r\nL 47.609375 26.90625 \r\nz\r\nM 28.609375 72.90625 \r\nL 39.796875 72.90625 \r\nL 67.578125 0 \r\nL 57.328125 0 \r\nL 50.6875 18.703125 \r\nL 17.828125 18.703125 \r\nL 11.1875 0 \r\nL 0.78125 0 \r\nz\r\n\" id=\"DejaVuSans-65\"/>\r\n       <path d=\"M 54.890625 33.015625 \r\nL 54.890625 0 \r\nL 45.90625 0 \r\nL 45.90625 32.71875 \r\nQ 45.90625 40.484375 42.875 44.328125 \r\nQ 39.84375 48.1875 33.796875 48.1875 \r\nQ 26.515625 48.1875 22.3125 43.546875 \r\nQ 18.109375 38.921875 18.109375 30.90625 \r\nL 18.109375 0 \r\nL 9.078125 0 \r\nL 9.078125 54.6875 \r\nL 18.109375 54.6875 \r\nL 18.109375 46.1875 \r\nQ 21.34375 51.125 25.703125 53.5625 \r\nQ 30.078125 56 35.796875 56 \r\nQ 45.21875 56 50.046875 50.171875 \r\nQ 54.890625 44.34375 54.890625 33.015625 \r\nz\r\n\" id=\"DejaVuSans-110\"/>\r\n       <path d=\"M 56.203125 29.59375 \r\nL 56.203125 25.203125 \r\nL 14.890625 25.203125 \r\nQ 15.484375 15.921875 20.484375 11.0625 \r\nQ 25.484375 6.203125 34.421875 6.203125 \r\nQ 39.59375 6.203125 44.453125 7.46875 \r\nQ 49.3125 8.734375 54.109375 11.28125 \r\nL 54.109375 2.78125 \r\nQ 49.265625 0.734375 44.1875 -0.34375 \r\nQ 39.109375 -1.421875 33.890625 -1.421875 \r\nQ 20.796875 -1.421875 13.15625 6.1875 \r\nQ 5.515625 13.8125 5.515625 26.8125 \r\nQ 5.515625 40.234375 12.765625 48.109375 \r\nQ 20.015625 56 32.328125 56 \r\nQ 43.359375 56 49.78125 48.890625 \r\nQ 56.203125 41.796875 56.203125 29.59375 \r\nz\r\nM 47.21875 32.234375 \r\nQ 47.125 39.59375 43.09375 43.984375 \r\nQ 39.0625 48.390625 32.421875 48.390625 \r\nQ 24.90625 48.390625 20.390625 44.140625 \r\nQ 15.875 39.890625 15.1875 32.171875 \r\nz\r\nM 38.578125 79.984375 \r\nL 48.296875 79.984375 \r\nL 32.375 61.625 \r\nL 24.90625 61.625 \r\nz\r\n\" id=\"DejaVuSans-233\"/>\r\n       <path d=\"M 56.203125 29.59375 \r\nL 56.203125 25.203125 \r\nL 14.890625 25.203125 \r\nQ 15.484375 15.921875 20.484375 11.0625 \r\nQ 25.484375 6.203125 34.421875 6.203125 \r\nQ 39.59375 6.203125 44.453125 7.46875 \r\nQ 49.3125 8.734375 54.109375 11.28125 \r\nL 54.109375 2.78125 \r\nQ 49.265625 0.734375 44.1875 -0.34375 \r\nQ 39.109375 -1.421875 33.890625 -1.421875 \r\nQ 20.796875 -1.421875 13.15625 6.1875 \r\nQ 5.515625 13.8125 5.515625 26.8125 \r\nQ 5.515625 40.234375 12.765625 48.109375 \r\nQ 20.015625 56 32.328125 56 \r\nQ 43.359375 56 49.78125 48.890625 \r\nQ 56.203125 41.796875 56.203125 29.59375 \r\nz\r\nM 47.21875 32.234375 \r\nQ 47.125 39.59375 43.09375 43.984375 \r\nQ 39.0625 48.390625 32.421875 48.390625 \r\nQ 24.90625 48.390625 20.390625 44.140625 \r\nQ 15.875 39.890625 15.1875 32.171875 \r\nz\r\n\" id=\"DejaVuSans-101\"/>\r\n       <path d=\"M 44.28125 53.078125 \r\nL 44.28125 44.578125 \r\nQ 40.484375 46.53125 36.375 47.5 \r\nQ 32.28125 48.484375 27.875 48.484375 \r\nQ 21.1875 48.484375 17.84375 46.4375 \r\nQ 14.5 44.390625 14.5 40.28125 \r\nQ 14.5 37.15625 16.890625 35.375 \r\nQ 19.28125 33.59375 26.515625 31.984375 \r\nL 29.59375 31.296875 \r\nQ 39.15625 29.25 43.1875 25.515625 \r\nQ 47.21875 21.78125 47.21875 15.09375 \r\nQ 47.21875 7.46875 41.1875 3.015625 \r\nQ 35.15625 -1.421875 24.609375 -1.421875 \r\nQ 20.21875 -1.421875 15.453125 -0.5625 \r\nQ 10.6875 0.296875 5.421875 2 \r\nL 5.421875 11.28125 \r\nQ 10.40625 8.6875 15.234375 7.390625 \r\nQ 20.0625 6.109375 24.8125 6.109375 \r\nQ 31.15625 6.109375 34.5625 8.28125 \r\nQ 37.984375 10.453125 37.984375 14.40625 \r\nQ 37.984375 18.0625 35.515625 20.015625 \r\nQ 33.0625 21.96875 24.703125 23.78125 \r\nL 21.578125 24.515625 \r\nQ 13.234375 26.265625 9.515625 29.90625 \r\nQ 5.8125 33.546875 5.8125 39.890625 \r\nQ 5.8125 47.609375 11.28125 51.796875 \r\nQ 16.75 56 26.8125 56 \r\nQ 31.78125 56 36.171875 55.265625 \r\nQ 40.578125 54.546875 44.28125 53.078125 \r\nz\r\n\" id=\"DejaVuSans-115\"/>\r\n      </defs>\r\n      <use xlink:href=\"#DejaVuSans-65\"/>\r\n      <use x=\"68.408203\" xlink:href=\"#DejaVuSans-110\"/>\r\n      <use x=\"131.787109\" xlink:href=\"#DejaVuSans-110\"/>\r\n      <use x=\"195.166016\" xlink:href=\"#DejaVuSans-233\"/>\r\n      <use x=\"256.689453\" xlink:href=\"#DejaVuSans-101\"/>\r\n      <use x=\"318.212891\" xlink:href=\"#DejaVuSans-115\"/>\r\n     </g>\r\n    </g>\r\n   </g>\r\n   <g id=\"matplotlib.axis_2\">\r\n    <g id=\"ytick_1\">\r\n     <g id=\"line2d_7\">\r\n      <defs>\r\n       <path d=\"M 0 0 \r\nL -3.5 0 \r\n\" id=\"m9db80e9c87\" style=\"stroke:#000000;stroke-width:0.8;\"/>\r\n      </defs>\r\n      <g>\r\n       <use style=\"stroke:#000000;stroke-width:0.8;\" x=\"56.90625\" xlink:href=\"#m9db80e9c87\" y=\"218.932463\"/>\r\n      </g>\r\n     </g>\r\n     <g id=\"text_8\">\r\n      <!-- 12.00 -->\r\n      <g transform=\"translate(21.278125 222.731682)scale(0.1 -0.1)\">\r\n       <defs>\r\n        <path d=\"M 10.6875 12.40625 \r\nL 21 12.40625 \r\nL 21 0 \r\nL 10.6875 0 \r\nz\r\n\" id=\"DejaVuSans-46\"/>\r\n       </defs>\r\n       <use xlink:href=\"#DejaVuSans-49\"/>\r\n       <use x=\"63.623047\" xlink:href=\"#DejaVuSans-50\"/>\r\n       <use x=\"127.246094\" xlink:href=\"#DejaVuSans-46\"/>\r\n       <use x=\"159.033203\" xlink:href=\"#DejaVuSans-48\"/>\r\n       <use x=\"222.65625\" xlink:href=\"#DejaVuSans-48\"/>\r\n      </g>\r\n     </g>\r\n    </g>\r\n    <g id=\"ytick_2\">\r\n     <g id=\"line2d_8\">\r\n      <g>\r\n       <use style=\"stroke:#000000;stroke-width:0.8;\" x=\"56.90625\" xlink:href=\"#m9db80e9c87\" y=\"193.338087\"/>\r\n      </g>\r\n     </g>\r\n     <g id=\"text_9\">\r\n      <!-- 12.25 -->\r\n      <g transform=\"translate(21.278125 197.137306)scale(0.1 -0.1)\">\r\n       <use xlink:href=\"#DejaVuSans-49\"/>\r\n       <use x=\"63.623047\" xlink:href=\"#DejaVuSans-50\"/>\r\n       <use x=\"127.246094\" xlink:href=\"#DejaVuSans-46\"/>\r\n       <use x=\"159.033203\" xlink:href=\"#DejaVuSans-50\"/>\r\n       <use x=\"222.65625\" xlink:href=\"#DejaVuSans-53\"/>\r\n      </g>\r\n     </g>\r\n    </g>\r\n    <g id=\"ytick_3\">\r\n     <g id=\"line2d_9\">\r\n      <g>\r\n       <use style=\"stroke:#000000;stroke-width:0.8;\" x=\"56.90625\" xlink:href=\"#m9db80e9c87\" y=\"167.743711\"/>\r\n      </g>\r\n     </g>\r\n     <g id=\"text_10\">\r\n      <!-- 12.50 -->\r\n      <g transform=\"translate(21.278125 171.54293)scale(0.1 -0.1)\">\r\n       <use xlink:href=\"#DejaVuSans-49\"/>\r\n       <use x=\"63.623047\" xlink:href=\"#DejaVuSans-50\"/>\r\n       <use x=\"127.246094\" xlink:href=\"#DejaVuSans-46\"/>\r\n       <use x=\"159.033203\" xlink:href=\"#DejaVuSans-53\"/>\r\n       <use x=\"222.65625\" xlink:href=\"#DejaVuSans-48\"/>\r\n      </g>\r\n     </g>\r\n    </g>\r\n    <g id=\"ytick_4\">\r\n     <g id=\"line2d_10\">\r\n      <g>\r\n       <use style=\"stroke:#000000;stroke-width:0.8;\" x=\"56.90625\" xlink:href=\"#m9db80e9c87\" y=\"142.149335\"/>\r\n      </g>\r\n     </g>\r\n     <g id=\"text_11\">\r\n      <!-- 12.75 -->\r\n      <g transform=\"translate(21.278125 145.948554)scale(0.1 -0.1)\">\r\n       <defs>\r\n        <path d=\"M 8.203125 72.90625 \r\nL 55.078125 72.90625 \r\nL 55.078125 68.703125 \r\nL 28.609375 0 \r\nL 18.3125 0 \r\nL 43.21875 64.59375 \r\nL 8.203125 64.59375 \r\nz\r\n\" id=\"DejaVuSans-55\"/>\r\n       </defs>\r\n       <use xlink:href=\"#DejaVuSans-49\"/>\r\n       <use x=\"63.623047\" xlink:href=\"#DejaVuSans-50\"/>\r\n       <use x=\"127.246094\" xlink:href=\"#DejaVuSans-46\"/>\r\n       <use x=\"159.033203\" xlink:href=\"#DejaVuSans-55\"/>\r\n       <use x=\"222.65625\" xlink:href=\"#DejaVuSans-53\"/>\r\n      </g>\r\n     </g>\r\n    </g>\r\n    <g id=\"ytick_5\">\r\n     <g id=\"line2d_11\">\r\n      <g>\r\n       <use style=\"stroke:#000000;stroke-width:0.8;\" x=\"56.90625\" xlink:href=\"#m9db80e9c87\" y=\"116.554959\"/>\r\n      </g>\r\n     </g>\r\n     <g id=\"text_12\">\r\n      <!-- 13.00 -->\r\n      <g transform=\"translate(21.278125 120.354178)scale(0.1 -0.1)\">\r\n       <defs>\r\n        <path d=\"M 40.578125 39.3125 \r\nQ 47.65625 37.796875 51.625 33 \r\nQ 55.609375 28.21875 55.609375 21.1875 \r\nQ 55.609375 10.40625 48.1875 4.484375 \r\nQ 40.765625 -1.421875 27.09375 -1.421875 \r\nQ 22.515625 -1.421875 17.65625 -0.515625 \r\nQ 12.796875 0.390625 7.625 2.203125 \r\nL 7.625 11.71875 \r\nQ 11.71875 9.328125 16.59375 8.109375 \r\nQ 21.484375 6.890625 26.8125 6.890625 \r\nQ 36.078125 6.890625 40.9375 10.546875 \r\nQ 45.796875 14.203125 45.796875 21.1875 \r\nQ 45.796875 27.640625 41.28125 31.265625 \r\nQ 36.765625 34.90625 28.71875 34.90625 \r\nL 20.21875 34.90625 \r\nL 20.21875 43.015625 \r\nL 29.109375 43.015625 \r\nQ 36.375 43.015625 40.234375 45.921875 \r\nQ 44.09375 48.828125 44.09375 54.296875 \r\nQ 44.09375 59.90625 40.109375 62.90625 \r\nQ 36.140625 65.921875 28.71875 65.921875 \r\nQ 24.65625 65.921875 20.015625 65.03125 \r\nQ 15.375 64.15625 9.8125 62.3125 \r\nL 9.8125 71.09375 \r\nQ 15.4375 72.65625 20.34375 73.4375 \r\nQ 25.25 74.21875 29.59375 74.21875 \r\nQ 40.828125 74.21875 47.359375 69.109375 \r\nQ 53.90625 64.015625 53.90625 55.328125 \r\nQ 53.90625 49.265625 50.4375 45.09375 \r\nQ 46.96875 40.921875 40.578125 39.3125 \r\nz\r\n\" id=\"DejaVuSans-51\"/>\r\n       </defs>\r\n       <use xlink:href=\"#DejaVuSans-49\"/>\r\n       <use x=\"63.623047\" xlink:href=\"#DejaVuSans-51\"/>\r\n       <use x=\"127.246094\" xlink:href=\"#DejaVuSans-46\"/>\r\n       <use x=\"159.033203\" xlink:href=\"#DejaVuSans-48\"/>\r\n       <use x=\"222.65625\" xlink:href=\"#DejaVuSans-48\"/>\r\n      </g>\r\n     </g>\r\n    </g>\r\n    <g id=\"ytick_6\">\r\n     <g id=\"line2d_12\">\r\n      <g>\r\n       <use style=\"stroke:#000000;stroke-width:0.8;\" x=\"56.90625\" xlink:href=\"#m9db80e9c87\" y=\"90.960584\"/>\r\n      </g>\r\n     </g>\r\n     <g id=\"text_13\">\r\n      <!-- 13.25 -->\r\n      <g transform=\"translate(21.278125 94.759802)scale(0.1 -0.1)\">\r\n       <use xlink:href=\"#DejaVuSans-49\"/>\r\n       <use x=\"63.623047\" xlink:href=\"#DejaVuSans-51\"/>\r\n       <use x=\"127.246094\" xlink:href=\"#DejaVuSans-46\"/>\r\n       <use x=\"159.033203\" xlink:href=\"#DejaVuSans-50\"/>\r\n       <use x=\"222.65625\" xlink:href=\"#DejaVuSans-53\"/>\r\n      </g>\r\n     </g>\r\n    </g>\r\n    <g id=\"ytick_7\">\r\n     <g id=\"line2d_13\">\r\n      <g>\r\n       <use style=\"stroke:#000000;stroke-width:0.8;\" x=\"56.90625\" xlink:href=\"#m9db80e9c87\" y=\"65.366208\"/>\r\n      </g>\r\n     </g>\r\n     <g id=\"text_14\">\r\n      <!-- 13.50 -->\r\n      <g transform=\"translate(21.278125 69.165427)scale(0.1 -0.1)\">\r\n       <use xlink:href=\"#DejaVuSans-49\"/>\r\n       <use x=\"63.623047\" xlink:href=\"#DejaVuSans-51\"/>\r\n       <use x=\"127.246094\" xlink:href=\"#DejaVuSans-46\"/>\r\n       <use x=\"159.033203\" xlink:href=\"#DejaVuSans-53\"/>\r\n       <use x=\"222.65625\" xlink:href=\"#DejaVuSans-48\"/>\r\n      </g>\r\n     </g>\r\n    </g>\r\n    <g id=\"ytick_8\">\r\n     <g id=\"line2d_14\">\r\n      <g>\r\n       <use style=\"stroke:#000000;stroke-width:0.8;\" x=\"56.90625\" xlink:href=\"#m9db80e9c87\" y=\"39.771832\"/>\r\n      </g>\r\n     </g>\r\n     <g id=\"text_15\">\r\n      <!-- 13.75 -->\r\n      <g transform=\"translate(21.278125 43.571051)scale(0.1 -0.1)\">\r\n       <use xlink:href=\"#DejaVuSans-49\"/>\r\n       <use x=\"63.623047\" xlink:href=\"#DejaVuSans-51\"/>\r\n       <use x=\"127.246094\" xlink:href=\"#DejaVuSans-46\"/>\r\n       <use x=\"159.033203\" xlink:href=\"#DejaVuSans-55\"/>\r\n       <use x=\"222.65625\" xlink:href=\"#DejaVuSans-53\"/>\r\n      </g>\r\n     </g>\r\n    </g>\r\n    <g id=\"text_16\">\r\n     <!-- Températures moyennes -->\r\n     <g transform=\"translate(15.198438 193.365781)rotate(-90)scale(0.1 -0.1)\">\r\n      <defs>\r\n       <path d=\"M -0.296875 72.90625 \r\nL 61.375 72.90625 \r\nL 61.375 64.59375 \r\nL 35.5 64.59375 \r\nL 35.5 0 \r\nL 25.59375 0 \r\nL 25.59375 64.59375 \r\nL -0.296875 64.59375 \r\nz\r\n\" id=\"DejaVuSans-84\"/>\r\n       <path d=\"M 52 44.1875 \r\nQ 55.375 50.25 60.0625 53.125 \r\nQ 64.75 56 71.09375 56 \r\nQ 79.640625 56 84.28125 50.015625 \r\nQ 88.921875 44.046875 88.921875 33.015625 \r\nL 88.921875 0 \r\nL 79.890625 0 \r\nL 79.890625 32.71875 \r\nQ 79.890625 40.578125 77.09375 44.375 \r\nQ 74.3125 48.1875 68.609375 48.1875 \r\nQ 61.625 48.1875 57.5625 43.546875 \r\nQ 53.515625 38.921875 53.515625 30.90625 \r\nL 53.515625 0 \r\nL 44.484375 0 \r\nL 44.484375 32.71875 \r\nQ 44.484375 40.625 41.703125 44.40625 \r\nQ 38.921875 48.1875 33.109375 48.1875 \r\nQ 26.21875 48.1875 22.15625 43.53125 \r\nQ 18.109375 38.875 18.109375 30.90625 \r\nL 18.109375 0 \r\nL 9.078125 0 \r\nL 9.078125 54.6875 \r\nL 18.109375 54.6875 \r\nL 18.109375 46.1875 \r\nQ 21.1875 51.21875 25.484375 53.609375 \r\nQ 29.78125 56 35.6875 56 \r\nQ 41.65625 56 45.828125 52.96875 \r\nQ 50 49.953125 52 44.1875 \r\nz\r\n\" id=\"DejaVuSans-109\"/>\r\n       <path d=\"M 18.109375 8.203125 \r\nL 18.109375 -20.796875 \r\nL 9.078125 -20.796875 \r\nL 9.078125 54.6875 \r\nL 18.109375 54.6875 \r\nL 18.109375 46.390625 \r\nQ 20.953125 51.265625 25.265625 53.625 \r\nQ 29.59375 56 35.59375 56 \r\nQ 45.5625 56 51.78125 48.09375 \r\nQ 58.015625 40.1875 58.015625 27.296875 \r\nQ 58.015625 14.40625 51.78125 6.484375 \r\nQ 45.5625 -1.421875 35.59375 -1.421875 \r\nQ 29.59375 -1.421875 25.265625 0.953125 \r\nQ 20.953125 3.328125 18.109375 8.203125 \r\nz\r\nM 48.6875 27.296875 \r\nQ 48.6875 37.203125 44.609375 42.84375 \r\nQ 40.53125 48.484375 33.40625 48.484375 \r\nQ 26.265625 48.484375 22.1875 42.84375 \r\nQ 18.109375 37.203125 18.109375 27.296875 \r\nQ 18.109375 17.390625 22.1875 11.75 \r\nQ 26.265625 6.109375 33.40625 6.109375 \r\nQ 40.53125 6.109375 44.609375 11.75 \r\nQ 48.6875 17.390625 48.6875 27.296875 \r\nz\r\n\" id=\"DejaVuSans-112\"/>\r\n       <path d=\"M 41.109375 46.296875 \r\nQ 39.59375 47.171875 37.8125 47.578125 \r\nQ 36.03125 48 33.890625 48 \r\nQ 26.265625 48 22.1875 43.046875 \r\nQ 18.109375 38.09375 18.109375 28.8125 \r\nL 18.109375 0 \r\nL 9.078125 0 \r\nL 9.078125 54.6875 \r\nL 18.109375 54.6875 \r\nL 18.109375 46.1875 \r\nQ 20.953125 51.171875 25.484375 53.578125 \r\nQ 30.03125 56 36.53125 56 \r\nQ 37.453125 56 38.578125 55.875 \r\nQ 39.703125 55.765625 41.0625 55.515625 \r\nz\r\n\" id=\"DejaVuSans-114\"/>\r\n       <path d=\"M 34.28125 27.484375 \r\nQ 23.390625 27.484375 19.1875 25 \r\nQ 14.984375 22.515625 14.984375 16.5 \r\nQ 14.984375 11.71875 18.140625 8.90625 \r\nQ 21.296875 6.109375 26.703125 6.109375 \r\nQ 34.1875 6.109375 38.703125 11.40625 \r\nQ 43.21875 16.703125 43.21875 25.484375 \r\nL 43.21875 27.484375 \r\nz\r\nM 52.203125 31.203125 \r\nL 52.203125 0 \r\nL 43.21875 0 \r\nL 43.21875 8.296875 \r\nQ 40.140625 3.328125 35.546875 0.953125 \r\nQ 30.953125 -1.421875 24.3125 -1.421875 \r\nQ 15.921875 -1.421875 10.953125 3.296875 \r\nQ 6 8.015625 6 15.921875 \r\nQ 6 25.140625 12.171875 29.828125 \r\nQ 18.359375 34.515625 30.609375 34.515625 \r\nL 43.21875 34.515625 \r\nL 43.21875 35.40625 \r\nQ 43.21875 41.609375 39.140625 45 \r\nQ 35.0625 48.390625 27.6875 48.390625 \r\nQ 23 48.390625 18.546875 47.265625 \r\nQ 14.109375 46.140625 10.015625 43.890625 \r\nL 10.015625 52.203125 \r\nQ 14.9375 54.109375 19.578125 55.046875 \r\nQ 24.21875 56 28.609375 56 \r\nQ 40.484375 56 46.34375 49.84375 \r\nQ 52.203125 43.703125 52.203125 31.203125 \r\nz\r\n\" id=\"DejaVuSans-97\"/>\r\n       <path d=\"M 18.3125 70.21875 \r\nL 18.3125 54.6875 \r\nL 36.8125 54.6875 \r\nL 36.8125 47.703125 \r\nL 18.3125 47.703125 \r\nL 18.3125 18.015625 \r\nQ 18.3125 11.328125 20.140625 9.421875 \r\nQ 21.96875 7.515625 27.59375 7.515625 \r\nL 36.8125 7.515625 \r\nL 36.8125 0 \r\nL 27.59375 0 \r\nQ 17.1875 0 13.234375 3.875 \r\nQ 9.28125 7.765625 9.28125 18.015625 \r\nL 9.28125 47.703125 \r\nL 2.6875 47.703125 \r\nL 2.6875 54.6875 \r\nL 9.28125 54.6875 \r\nL 9.28125 70.21875 \r\nz\r\n\" id=\"DejaVuSans-116\"/>\r\n       <path d=\"M 8.5 21.578125 \r\nL 8.5 54.6875 \r\nL 17.484375 54.6875 \r\nL 17.484375 21.921875 \r\nQ 17.484375 14.15625 20.5 10.265625 \r\nQ 23.53125 6.390625 29.59375 6.390625 \r\nQ 36.859375 6.390625 41.078125 11.03125 \r\nQ 45.3125 15.671875 45.3125 23.6875 \r\nL 45.3125 54.6875 \r\nL 54.296875 54.6875 \r\nL 54.296875 0 \r\nL 45.3125 0 \r\nL 45.3125 8.40625 \r\nQ 42.046875 3.421875 37.71875 1 \r\nQ 33.40625 -1.421875 27.6875 -1.421875 \r\nQ 18.265625 -1.421875 13.375 4.4375 \r\nQ 8.5 10.296875 8.5 21.578125 \r\nz\r\nM 31.109375 56 \r\nz\r\n\" id=\"DejaVuSans-117\"/>\r\n       <path id=\"DejaVuSans-32\"/>\r\n       <path d=\"M 30.609375 48.390625 \r\nQ 23.390625 48.390625 19.1875 42.75 \r\nQ 14.984375 37.109375 14.984375 27.296875 \r\nQ 14.984375 17.484375 19.15625 11.84375 \r\nQ 23.34375 6.203125 30.609375 6.203125 \r\nQ 37.796875 6.203125 41.984375 11.859375 \r\nQ 46.1875 17.53125 46.1875 27.296875 \r\nQ 46.1875 37.015625 41.984375 42.703125 \r\nQ 37.796875 48.390625 30.609375 48.390625 \r\nz\r\nM 30.609375 56 \r\nQ 42.328125 56 49.015625 48.375 \r\nQ 55.71875 40.765625 55.71875 27.296875 \r\nQ 55.71875 13.875 49.015625 6.21875 \r\nQ 42.328125 -1.421875 30.609375 -1.421875 \r\nQ 18.84375 -1.421875 12.171875 6.21875 \r\nQ 5.515625 13.875 5.515625 27.296875 \r\nQ 5.515625 40.765625 12.171875 48.375 \r\nQ 18.84375 56 30.609375 56 \r\nz\r\n\" id=\"DejaVuSans-111\"/>\r\n       <path d=\"M 32.171875 -5.078125 \r\nQ 28.375 -14.84375 24.75 -17.8125 \r\nQ 21.140625 -20.796875 15.09375 -20.796875 \r\nL 7.90625 -20.796875 \r\nL 7.90625 -13.28125 \r\nL 13.1875 -13.28125 \r\nQ 16.890625 -13.28125 18.9375 -11.515625 \r\nQ 21 -9.765625 23.484375 -3.21875 \r\nL 25.09375 0.875 \r\nL 2.984375 54.6875 \r\nL 12.5 54.6875 \r\nL 29.59375 11.921875 \r\nL 46.6875 54.6875 \r\nL 56.203125 54.6875 \r\nz\r\n\" id=\"DejaVuSans-121\"/>\r\n      </defs>\r\n      <use xlink:href=\"#DejaVuSans-84\"/>\r\n      <use x=\"44.083984\" xlink:href=\"#DejaVuSans-101\"/>\r\n      <use x=\"105.607422\" xlink:href=\"#DejaVuSans-109\"/>\r\n      <use x=\"203.019531\" xlink:href=\"#DejaVuSans-112\"/>\r\n      <use x=\"266.496094\" xlink:href=\"#DejaVuSans-233\"/>\r\n      <use x=\"328.019531\" xlink:href=\"#DejaVuSans-114\"/>\r\n      <use x=\"369.132812\" xlink:href=\"#DejaVuSans-97\"/>\r\n      <use x=\"430.412109\" xlink:href=\"#DejaVuSans-116\"/>\r\n      <use x=\"469.621094\" xlink:href=\"#DejaVuSans-117\"/>\r\n      <use x=\"533\" xlink:href=\"#DejaVuSans-114\"/>\r\n      <use x=\"571.863281\" xlink:href=\"#DejaVuSans-101\"/>\r\n      <use x=\"633.386719\" xlink:href=\"#DejaVuSans-115\"/>\r\n      <use x=\"685.486328\" xlink:href=\"#DejaVuSans-32\"/>\r\n      <use x=\"717.273438\" xlink:href=\"#DejaVuSans-109\"/>\r\n      <use x=\"814.685547\" xlink:href=\"#DejaVuSans-111\"/>\r\n      <use x=\"875.867188\" xlink:href=\"#DejaVuSans-121\"/>\r\n      <use x=\"935.046875\" xlink:href=\"#DejaVuSans-101\"/>\r\n      <use x=\"996.570312\" xlink:href=\"#DejaVuSans-110\"/>\r\n      <use x=\"1059.949219\" xlink:href=\"#DejaVuSans-110\"/>\r\n      <use x=\"1123.328125\" xlink:href=\"#DejaVuSans-101\"/>\r\n      <use x=\"1184.851562\" xlink:href=\"#DejaVuSans-115\"/>\r\n     </g>\r\n    </g>\r\n   </g>\r\n   <g id=\"line2d_15\">\r\n    <path clip-path=\"url(#p467e6cd597)\" d=\"M 72.124432 59.239853 \r\nL 84.80625 177.780721 \r\nL 97.488068 32.681761 \r\nL 110.169886 112.360723 \r\nL 122.851705 76.889927 \r\nL 135.533523 95.840143 \r\nL 148.215341 127.213439 \r\nL 160.897159 95.868339 \r\nL 173.578977 60.200585 \r\nL 186.260795 143.182745 \r\nL 198.942614 135.661994 \r\nL 211.624432 87.828487 \r\nL 224.30625 132.00065 \r\nL 236.988068 164.958406 \r\nL 249.669886 125.828624 \r\nL 262.351705 230.354489 \r\nL 275.033523 43.94017 \r\nL 287.715341 150.237904 \r\nL 300.397159 183.729956 \r\nL 313.078977 111.828281 \r\nL 325.760795 100.710822 \r\nL 338.442614 139.148615 \r\nL 351.124432 104.462883 \r\nL 363.80625 83.592323 \r\nL 376.488068 69.687234 \r\n\" style=\"fill:none;stroke:#1f77b4;stroke-linecap:square;stroke-width:1.5;\"/>\r\n   </g>\r\n   <g id=\"patch_3\">\r\n    <path d=\"M 56.90625 240.238125 \r\nL 56.90625 22.798125 \r\n\" style=\"fill:none;stroke:#000000;stroke-linecap:square;stroke-linejoin:miter;stroke-width:0.8;\"/>\r\n   </g>\r\n   <g id=\"patch_4\">\r\n    <path d=\"M 391.70625 240.238125 \r\nL 391.70625 22.798125 \r\n\" style=\"fill:none;stroke:#000000;stroke-linecap:square;stroke-linejoin:miter;stroke-width:0.8;\"/>\r\n   </g>\r\n   <g id=\"patch_5\">\r\n    <path d=\"M 56.90625 240.238125 \r\nL 391.70625 240.238125 \r\n\" style=\"fill:none;stroke:#000000;stroke-linecap:square;stroke-linejoin:miter;stroke-width:0.8;\"/>\r\n   </g>\r\n   <g id=\"patch_6\">\r\n    <path d=\"M 56.90625 22.798125 \r\nL 391.70625 22.798125 \r\n\" style=\"fill:none;stroke:#000000;stroke-linecap:square;stroke-linejoin:miter;stroke-width:0.8;\"/>\r\n   </g>\r\n   <g id=\"text_17\">\r\n    <!-- Les températures moyennes françaises de 1995 à 2019 -->\r\n    <g transform=\"translate(56.522813 16.798125)scale(0.12 -0.12)\">\r\n     <defs>\r\n      <path d=\"M 9.8125 72.90625 \r\nL 19.671875 72.90625 \r\nL 19.671875 8.296875 \r\nL 55.171875 8.296875 \r\nL 55.171875 0 \r\nL 9.8125 0 \r\nz\r\n\" id=\"DejaVuSans-76\"/>\r\n      <path d=\"M 37.109375 75.984375 \r\nL 37.109375 68.5 \r\nL 28.515625 68.5 \r\nQ 23.6875 68.5 21.796875 66.546875 \r\nQ 19.921875 64.59375 19.921875 59.515625 \r\nL 19.921875 54.6875 \r\nL 34.71875 54.6875 \r\nL 34.71875 47.703125 \r\nL 19.921875 47.703125 \r\nL 19.921875 0 \r\nL 10.890625 0 \r\nL 10.890625 47.703125 \r\nL 2.296875 47.703125 \r\nL 2.296875 54.6875 \r\nL 10.890625 54.6875 \r\nL 10.890625 58.5 \r\nQ 10.890625 67.625 15.140625 71.796875 \r\nQ 19.390625 75.984375 28.609375 75.984375 \r\nz\r\n\" id=\"DejaVuSans-102\"/>\r\n      <path d=\"M 48.78125 52.59375 \r\nL 48.78125 44.1875 \r\nQ 44.96875 46.296875 41.140625 47.34375 \r\nQ 37.3125 48.390625 33.40625 48.390625 \r\nQ 24.65625 48.390625 19.8125 42.84375 \r\nQ 14.984375 37.3125 14.984375 27.296875 \r\nQ 14.984375 17.28125 19.8125 11.734375 \r\nQ 24.65625 6.203125 33.40625 6.203125 \r\nQ 37.3125 6.203125 41.140625 7.25 \r\nQ 44.96875 8.296875 48.78125 10.40625 \r\nL 48.78125 2.09375 \r\nQ 45.015625 0.34375 40.984375 -0.53125 \r\nQ 36.96875 -1.421875 32.421875 -1.421875 \r\nQ 20.0625 -1.421875 12.78125 6.34375 \r\nQ 5.515625 14.109375 5.515625 27.296875 \r\nQ 5.515625 40.671875 12.859375 48.328125 \r\nQ 20.21875 56 33.015625 56 \r\nQ 37.15625 56 41.109375 55.140625 \r\nQ 45.0625 54.296875 48.78125 52.59375 \r\nz\r\nM 36.078125 0 \r\nQ 38.765625 -3.03125 40.078125 -5.59375 \r\nQ 41.40625 -8.15625 41.40625 -10.5 \r\nQ 41.40625 -14.84375 38.46875 -17.0625 \r\nQ 35.546875 -19.28125 29.78125 -19.28125 \r\nQ 27.546875 -19.28125 25.421875 -18.984375 \r\nQ 23.296875 -18.703125 21.1875 -18.109375 \r\nL 21.1875 -11.71875 \r\nQ 22.859375 -12.546875 24.65625 -12.90625 \r\nQ 26.46875 -13.28125 28.765625 -13.28125 \r\nQ 31.640625 -13.28125 33.109375 -12.109375 \r\nQ 34.578125 -10.9375 34.578125 -8.6875 \r\nQ 34.578125 -7.234375 33.515625 -5.109375 \r\nQ 32.46875 -2.984375 30.28125 0 \r\nz\r\n\" id=\"DejaVuSans-231\"/>\r\n      <path d=\"M 9.421875 54.6875 \r\nL 18.40625 54.6875 \r\nL 18.40625 0 \r\nL 9.421875 0 \r\nz\r\nM 9.421875 75.984375 \r\nL 18.40625 75.984375 \r\nL 18.40625 64.59375 \r\nL 9.421875 64.59375 \r\nz\r\n\" id=\"DejaVuSans-105\"/>\r\n      <path d=\"M 45.40625 46.390625 \r\nL 45.40625 75.984375 \r\nL 54.390625 75.984375 \r\nL 54.390625 0 \r\nL 45.40625 0 \r\nL 45.40625 8.203125 \r\nQ 42.578125 3.328125 38.25 0.953125 \r\nQ 33.9375 -1.421875 27.875 -1.421875 \r\nQ 17.96875 -1.421875 11.734375 6.484375 \r\nQ 5.515625 14.40625 5.515625 27.296875 \r\nQ 5.515625 40.1875 11.734375 48.09375 \r\nQ 17.96875 56 27.875 56 \r\nQ 33.9375 56 38.25 53.625 \r\nQ 42.578125 51.265625 45.40625 46.390625 \r\nz\r\nM 14.796875 27.296875 \r\nQ 14.796875 17.390625 18.875 11.75 \r\nQ 22.953125 6.109375 30.078125 6.109375 \r\nQ 37.203125 6.109375 41.296875 11.75 \r\nQ 45.40625 17.390625 45.40625 27.296875 \r\nQ 45.40625 37.203125 41.296875 42.84375 \r\nQ 37.203125 48.484375 30.078125 48.484375 \r\nQ 22.953125 48.484375 18.875 42.84375 \r\nQ 14.796875 37.203125 14.796875 27.296875 \r\nz\r\n\" id=\"DejaVuSans-100\"/>\r\n      <path d=\"M 34.28125 27.484375 \r\nQ 23.390625 27.484375 19.1875 25 \r\nQ 14.984375 22.515625 14.984375 16.5 \r\nQ 14.984375 11.71875 18.140625 8.90625 \r\nQ 21.296875 6.109375 26.703125 6.109375 \r\nQ 34.1875 6.109375 38.703125 11.40625 \r\nQ 43.21875 16.703125 43.21875 25.484375 \r\nL 43.21875 27.484375 \r\nz\r\nM 52.203125 31.203125 \r\nL 52.203125 0 \r\nL 43.21875 0 \r\nL 43.21875 8.296875 \r\nQ 40.140625 3.328125 35.546875 0.953125 \r\nQ 30.953125 -1.421875 24.3125 -1.421875 \r\nQ 15.921875 -1.421875 10.953125 3.296875 \r\nQ 6 8.015625 6 15.921875 \r\nQ 6 25.140625 12.171875 29.828125 \r\nQ 18.359375 34.515625 30.609375 34.515625 \r\nL 43.21875 34.515625 \r\nL 43.21875 35.40625 \r\nQ 43.21875 41.609375 39.140625 45 \r\nQ 35.0625 48.390625 27.6875 48.390625 \r\nQ 23 48.390625 18.546875 47.265625 \r\nQ 14.109375 46.140625 10.015625 43.890625 \r\nL 10.015625 52.203125 \r\nQ 14.9375 54.109375 19.578125 55.046875 \r\nQ 24.21875 56 28.609375 56 \r\nQ 40.484375 56 46.34375 49.84375 \r\nQ 52.203125 43.703125 52.203125 31.203125 \r\nz\r\nM 21.921875 79.984375 \r\nL 35.6875 61.71875 \r\nL 28.21875 61.71875 \r\nL 12.3125 79.984375 \r\nz\r\n\" id=\"DejaVuSans-224\"/>\r\n     </defs>\r\n     <use xlink:href=\"#DejaVuSans-76\"/>\r\n     <use x=\"53.962891\" xlink:href=\"#DejaVuSans-101\"/>\r\n     <use x=\"115.486328\" xlink:href=\"#DejaVuSans-115\"/>\r\n     <use x=\"167.585938\" xlink:href=\"#DejaVuSans-32\"/>\r\n     <use x=\"199.373047\" xlink:href=\"#DejaVuSans-116\"/>\r\n     <use x=\"238.582031\" xlink:href=\"#DejaVuSans-101\"/>\r\n     <use x=\"300.105469\" xlink:href=\"#DejaVuSans-109\"/>\r\n     <use x=\"397.517578\" xlink:href=\"#DejaVuSans-112\"/>\r\n     <use x=\"460.994141\" xlink:href=\"#DejaVuSans-233\"/>\r\n     <use x=\"522.517578\" xlink:href=\"#DejaVuSans-114\"/>\r\n     <use x=\"563.630859\" xlink:href=\"#DejaVuSans-97\"/>\r\n     <use x=\"624.910156\" xlink:href=\"#DejaVuSans-116\"/>\r\n     <use x=\"664.119141\" xlink:href=\"#DejaVuSans-117\"/>\r\n     <use x=\"727.498047\" xlink:href=\"#DejaVuSans-114\"/>\r\n     <use x=\"766.361328\" xlink:href=\"#DejaVuSans-101\"/>\r\n     <use x=\"827.884766\" xlink:href=\"#DejaVuSans-115\"/>\r\n     <use x=\"879.984375\" xlink:href=\"#DejaVuSans-32\"/>\r\n     <use x=\"911.771484\" xlink:href=\"#DejaVuSans-109\"/>\r\n     <use x=\"1009.183594\" xlink:href=\"#DejaVuSans-111\"/>\r\n     <use x=\"1070.365234\" xlink:href=\"#DejaVuSans-121\"/>\r\n     <use x=\"1129.544922\" xlink:href=\"#DejaVuSans-101\"/>\r\n     <use x=\"1191.068359\" xlink:href=\"#DejaVuSans-110\"/>\r\n     <use x=\"1254.447266\" xlink:href=\"#DejaVuSans-110\"/>\r\n     <use x=\"1317.826172\" xlink:href=\"#DejaVuSans-101\"/>\r\n     <use x=\"1379.349609\" xlink:href=\"#DejaVuSans-115\"/>\r\n     <use x=\"1431.449219\" xlink:href=\"#DejaVuSans-32\"/>\r\n     <use x=\"1463.236328\" xlink:href=\"#DejaVuSans-102\"/>\r\n     <use x=\"1498.441406\" xlink:href=\"#DejaVuSans-114\"/>\r\n     <use x=\"1539.554688\" xlink:href=\"#DejaVuSans-97\"/>\r\n     <use x=\"1600.833984\" xlink:href=\"#DejaVuSans-110\"/>\r\n     <use x=\"1664.212891\" xlink:href=\"#DejaVuSans-231\"/>\r\n     <use x=\"1719.193359\" xlink:href=\"#DejaVuSans-97\"/>\r\n     <use x=\"1780.472656\" xlink:href=\"#DejaVuSans-105\"/>\r\n     <use x=\"1808.255859\" xlink:href=\"#DejaVuSans-115\"/>\r\n     <use x=\"1860.355469\" xlink:href=\"#DejaVuSans-101\"/>\r\n     <use x=\"1921.878906\" xlink:href=\"#DejaVuSans-115\"/>\r\n     <use x=\"1973.978516\" xlink:href=\"#DejaVuSans-32\"/>\r\n     <use x=\"2005.765625\" xlink:href=\"#DejaVuSans-100\"/>\r\n     <use x=\"2069.242188\" xlink:href=\"#DejaVuSans-101\"/>\r\n     <use x=\"2130.765625\" xlink:href=\"#DejaVuSans-32\"/>\r\n     <use x=\"2162.552734\" xlink:href=\"#DejaVuSans-49\"/>\r\n     <use x=\"2226.175781\" xlink:href=\"#DejaVuSans-57\"/>\r\n     <use x=\"2289.798828\" xlink:href=\"#DejaVuSans-57\"/>\r\n     <use x=\"2353.421875\" xlink:href=\"#DejaVuSans-53\"/>\r\n     <use x=\"2417.044922\" xlink:href=\"#DejaVuSans-32\"/>\r\n     <use x=\"2448.832031\" xlink:href=\"#DejaVuSans-224\"/>\r\n     <use x=\"2510.111328\" xlink:href=\"#DejaVuSans-32\"/>\r\n     <use x=\"2541.898438\" xlink:href=\"#DejaVuSans-50\"/>\r\n     <use x=\"2605.521484\" xlink:href=\"#DejaVuSans-48\"/>\r\n     <use x=\"2669.144531\" xlink:href=\"#DejaVuSans-49\"/>\r\n     <use x=\"2732.767578\" xlink:href=\"#DejaVuSans-57\"/>\r\n    </g>\r\n   </g>\r\n  </g>\r\n </g>\r\n <defs>\r\n  <clipPath id=\"p467e6cd597\">\r\n   <rect height=\"217.44\" width=\"334.8\" x=\"56.90625\" y=\"22.798125\"/>\r\n  </clipPath>\r\n </defs>\r\n</svg>\r\n",
      "image/png": "[encoded data removed]"
     },
     "metadata": {
      "needs_background": "light"
     }
    }
   ],
   "source": [
    "plt.plot(local_france['AvgTemperature'])\n",
    "plt.xlabel('Années')\n",
    "plt.ylabel('Températures moyennes')\n",
    "plt.title('Les températures moyennes françaises de 1995 à 2019')\n",
    "plt.show()"
   ]
  },
  {
   "cell_type": "code",
   "execution_count": 18,
   "metadata": {},
   "outputs": [],
   "source": [
    "# local_bordeaux['Full Date'] = local_bordeaux['Year'].map(str) + \"-\" + local_bordeaux['Month'].map(str) + \"-\" + local_bordeaux['Day'].map(str)"
   ]
  },
  {
   "source": [
    "## L'évolution moyenne de la température chaque mois de l'année de chaque région du globe"
   ],
   "cell_type": "markdown",
   "metadata": {}
  },
  {
   "cell_type": "code",
   "execution_count": null,
   "metadata": {},
   "outputs": [],
   "source": []
  }
 ]
}
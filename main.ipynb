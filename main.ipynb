{
 "metadata": {
  "language_info": {
   "codemirror_mode": {
    "name": "ipython",
    "version": 3
   },
   "file_extension": ".py",
   "mimetype": "text/x-python",
   "name": "python",
   "nbconvert_exporter": "python",
   "pygments_lexer": "ipython3",
   "version": "3.7.6-final"
  },
  "orig_nbformat": 2,
  "kernelspec": {
   "name": "python3",
   "display_name": "Python 3"
  }
 },
 "nbformat": 4,
 "nbformat_minor": 2,
 "cells": [
  {
   "source": [
    "# Projet Climatologie\n"
   ],
   "cell_type": "markdown",
   "metadata": {}
  },
  {
   "source": [
    "## Liste des requêtes\n",
    "\n",
    "\n",
    "- Les températures moyennes françaises de 1995 à 2019.\n",
    "\n",
    "- L'évolution moyenne de la température chaque mois de l'année (sur toutes les années donc) de chaque région du globe (à l'aide de subplots, soit plusieurs diagrammes sur un seul affichage).\n",
    "\n",
    "- Le classement graphique des pays les plus chauds au monde.\n",
    "\n",
    "- Le classement graphique des pays les plus froids au monde.\n",
    "\n",
    "- L'évolution des températures entre le pays le plus chaud et le pays le plus froid de 1995 à 2019 sur un même graphique.\n",
    "\n",
    "- L'évolution de la température moyenne de la ville de Paris.\n",
    "\n",
    "- La température moyenne de chaque pays sur une carte sur la période 2010-2019.\n",
    "\n"
   ],
   "cell_type": "markdown",
   "metadata": {}
  },
  {
   "source": [
    "## Structure du jeu de données source\n",
    "\n",
    "Region / Country / State / City / Month / Day / Year / AvgTemperature"
   ],
   "cell_type": "markdown",
   "metadata": {}
  },
  {
   "source": [
    "## Import des librairies"
   ],
   "cell_type": "markdown",
   "metadata": {}
  },
  {
   "cell_type": "code",
   "execution_count": null,
   "metadata": {},
   "outputs": [],
   "source": [
    "# IPython extension reloading modules before user enters code.\n",
    "%load_ext autoreload\n",
    "%autoreload 2\n",
    "\n",
    "import pandas as pd\n",
    "import matplotlib.pyplot as plt\n",
    "import numpy as np\n",
    "\n",
    "from src.credentials import Credentials as cr\n",
    "import src.split_datas as sd"
   ]
  },
  {
   "source": [
    "## Nettoyage du jeu de données"
   ],
   "cell_type": "markdown",
   "metadata": {}
  },
  {
   "cell_type": "code",
   "execution_count": 48,
   "metadata": {},
   "outputs": [],
   "source": [
    "global_temperatures = pd.read_csv(\"./data/RAW/temperatures.csv\", delimiter = ',')"
   ]
  },
  {
   "cell_type": "code",
   "execution_count": null,
   "metadata": {},
   "outputs": [],
   "source": [
    "global_temperatures.describe()"
   ]
  },
  {
   "cell_type": "code",
   "execution_count": null,
   "metadata": {},
   "outputs": [],
   "source": [
    "# Conversion des degrés Fahrenheit en degrés Celsius.\n",
    "global_temperatures['AvgTemperature'] = (global_temperatures['AvgTemperature'] - 32) / 1.8"
   ]
  },
  {
   "cell_type": "code",
   "execution_count": null,
   "metadata": {},
   "outputs": [],
   "source": [
    "# Nettoyage des données aberrantes.\n",
    "global_temperatures = global_temperatures[global_temperatures['AvgTemperature'] > -72]"
   ]
  },
  {
   "cell_type": "code",
   "execution_count": null,
   "metadata": {},
   "outputs": [],
   "source": [
    "# Nous n'avons pas besoin de l'année 2020 dans ce projet.\n",
    "global_temperatures = global_temperatures[global_temperatures['Year'] <= 2019]"
   ]
  },
  {
   "cell_type": "code",
   "execution_count": 46,
   "metadata": {},
   "outputs": [],
   "source": [
    "global_temperatures['Region'][global_temperatures['Region'] == 'North America'] = 'NorthAmerica'\n",
    "global_temperatures['Region'][global_temperatures['Region'] == 'South/Central America & Carribean'] = 'SouthCentralAmericaCarribean'\n",
    "global_temperatures['Region'][global_temperatures['Region'] == 'Middle East'] = 'MiddleEast'\n",
    "global_temperatures['Region'][global_temperatures['Region'] == 'Australia/South Pacific'] = 'AustraliaSouthPacific'"
   ]
  },
  {
   "cell_type": "code",
   "execution_count": null,
   "metadata": {},
   "outputs": [],
   "source": [
    "global_temperatures.to_csv(\"./data/RAW/temperatures_filtre.csv\")"
   ]
  },
  {
   "source": [
    "## Séparation des données"
   ],
   "cell_type": "markdown",
   "metadata": {}
  },
  {
   "cell_type": "code",
   "execution_count": null,
   "metadata": {},
   "outputs": [],
   "source": [
    "sd.split_datas(cr.TEMPERATURES_FILTRE, 'Country')"
   ]
  },
  {
   "cell_type": "code",
   "execution_count": null,
   "metadata": {},
   "outputs": [],
   "source": [
    "sd.split_datas(cr.TEMPERATURES_FILTRE, 'Region')"
   ]
  },
  {
   "source": [
    "## Les températures moyennes françaises de 1995 à 2019"
   ],
   "cell_type": "markdown",
   "metadata": {}
  },
  {
   "cell_type": "code",
   "execution_count": null,
   "metadata": {},
   "outputs": [],
   "source": [
    "local_france = pd.read_csv(\"./data/CURATED/Country/France.csv\", sep=',', encoding='utf-8')"
   ]
  },
  {
   "cell_type": "code",
   "execution_count": null,
   "metadata": {},
   "outputs": [],
   "source": [
    "local_france = local_france.drop('Unnamed: 0', axis = 1)"
   ]
  },
  {
   "cell_type": "code",
   "execution_count": null,
   "metadata": {},
   "outputs": [],
   "source": [
    "local_france[['Region', 'Country', 'State', 'City']] = local_france[['Region', 'Country', 'State', 'City']].astype('string')"
   ]
  },
  {
   "cell_type": "code",
   "execution_count": null,
   "metadata": {},
   "outputs": [],
   "source": [
    "local_france.dtypes"
   ]
  },
  {
   "cell_type": "code",
   "execution_count": null,
   "metadata": {},
   "outputs": [],
   "source": [
    "local_france = local_france[['Year', 'AvgTemperature']].groupby('Year').agg({'AvgTemperature': 'mean'})"
   ]
  },
  {
   "cell_type": "code",
   "execution_count": null,
   "metadata": {},
   "outputs": [],
   "source": [
    "plt.plot(local_france['AvgTemperature'])\n",
    "plt.xlabel('Années')\n",
    "plt.ylabel('Températures moyennes')\n",
    "plt.title('Les températures moyennes françaises de 1995 à 2019')\n",
    "plt.show()"
   ]
  },
  {
   "cell_type": "code",
   "execution_count": null,
   "metadata": {},
   "outputs": [],
   "source": [
    "# local_bordeaux['Full Date'] = local_bordeaux['Year'].map(str) + \"-\" + local_bordeaux['Month'].map(str) + \"-\" + local_bordeaux['Day'].map(str)"
   ]
  },
  {
   "source": [
    "## L'évolution moyenne de la température chaque mois de l'année de chaque région du globe"
   ],
   "cell_type": "markdown",
   "metadata": {}
  },
  {
   "cell_type": "code",
   "execution_count": 47,
   "metadata": {},
   "outputs": [
    {
     "output_type": "execute_result",
     "data": {
      "text/plain": [
       "NorthAmerica                         1556681\n",
       "Europe                                381990\n",
       "Asia                                  316663\n",
       "Africa                                251118\n",
       "South/Central America & Carribean     219530\n",
       "Middle East                           124749\n",
       "Australia/South Pacific                55596\n",
       "Name: Region, dtype: int64"
      ]
     },
     "metadata": {},
     "execution_count": 47
    }
   ],
   "source": [
    "global_temperatures['Region'].value_counts()"
   ]
  },
  {
   "cell_type": "code",
   "execution_count": null,
   "metadata": {},
   "outputs": [],
   "source": []
  }
 ]
}
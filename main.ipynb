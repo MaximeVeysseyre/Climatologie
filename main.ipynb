{
 "metadata": {
  "language_info": {
   "codemirror_mode": {
    "name": "ipython",
    "version": 3
   },
   "file_extension": ".py",
   "mimetype": "text/x-python",
   "name": "python",
   "nbconvert_exporter": "python",
   "pygments_lexer": "ipython3",
   "version": "3.7.6-final"
  },
  "orig_nbformat": 2,
  "kernelspec": {
   "name": "python3",
   "display_name": "Python 3"
  }
 },
 "nbformat": 4,
 "nbformat_minor": 2,
 "cells": [
  {
   "source": [
    "# Projet Climatologie\n"
   ],
   "cell_type": "markdown",
   "metadata": {}
  },
  {
   "source": [
    "## Liste des requêtes\n",
    "\n",
    "\n",
    "- Les températures moyennes françaises de 1995 à 2019.\n",
    "\n",
    "- L'évolution moyenne de la témparature chaque mois de l'année (sur toutes les années donc) de chaque région du globe (à l'aide de subplots, soit plusieurs diagrammes sur un seul affichage).\n",
    "\n",
    "- Le classement graphique des pays les plus chauds au monde.\n",
    "\n",
    "- Le classement graphique des pays les plus froids au monde.\n",
    "\n",
    "- L'évolution des températures entre le pays le plus chaud et le pays le plus froid de 1995 à 2019 sur un même graphique.\n",
    "\n",
    "- L'évolution de la température moyenne de la ville de Paris.\n",
    "\n",
    "- La température moyenne de chaque pays sur une carte sur la période 2010-2019.\n",
    "\n"
   ],
   "cell_type": "markdown",
   "metadata": {}
  },
  {
   "source": [
    "## Structure du jeu de données source\n",
    "\n",
    "Region / Country / State / City / Month / Day / Year / AvgTemperature"
   ],
   "cell_type": "markdown",
   "metadata": {}
  },
  {
   "source": [
    "## Import des librairies"
   ],
   "cell_type": "markdown",
   "metadata": {}
  },
  {
   "cell_type": "code",
   "execution_count": 2,
   "metadata": {},
   "outputs": [
    {
     "output_type": "stream",
     "name": "stdout",
     "text": [
      "The autoreload extension is already loaded. To reload it, use:\n  %reload_ext autoreload\n"
     ]
    }
   ],
   "source": [
    "# IPython extension reloading modules before user enters code.\n",
    "%load_ext autoreload\n",
    "%autoreload 2\n",
    "\n",
    "import pandas as pd\n",
    "import matplotlib.pyplot as plt\n",
    "import numpy as np\n",
    "\n",
    "from src.credentials import Credentials as cr\n",
    "import src.split_datas as sd"
   ]
  },
  {
   "source": [
    "## Les températures moyennes françaises de 1995 à 2019"
   ],
   "cell_type": "markdown",
   "metadata": {}
  },
  {
   "cell_type": "code",
   "execution_count": 4,
   "metadata": {},
   "outputs": [
    {
     "output_type": "stream",
     "name": "stdout",
     "text": [
      "c:\\Users\\utilisateur\\Desktop\\Climatologie\\data\\CURATED\\Country\\\n",
      "c:\\Users\\utilisateur\\Desktop\\Climatologie\\data\\CURATED\\Country\\Algeria.csv\n",
      "c:\\Users\\utilisateur\\Desktop\\Climatologie\\data\\CURATED\\Country\\Burundi.csv\n",
      "c:\\Users\\utilisateur\\Desktop\\Climatologie\\data\\CURATED\\Country\\Benin.csv\n",
      "c:\\Users\\utilisateur\\Desktop\\Climatologie\\data\\CURATED\\Country\\Central African Republic.csv\n",
      "c:\\Users\\utilisateur\\Desktop\\Climatologie\\data\\CURATED\\Country\\Congo.csv\n",
      "c:\\Users\\utilisateur\\Desktop\\Climatologie\\data\\CURATED\\Country\\Egypt.csv\n",
      "c:\\Users\\utilisateur\\Desktop\\Climatologie\\data\\CURATED\\Country\\Ethiopia.csv\n",
      "c:\\Users\\utilisateur\\Desktop\\Climatologie\\data\\CURATED\\Country\\Gabon.csv\n",
      "c:\\Users\\utilisateur\\Desktop\\Climatologie\\data\\CURATED\\Country\\Gambia.csv\n",
      "c:\\Users\\utilisateur\\Desktop\\Climatologie\\data\\CURATED\\Country\\Guinea.csv\n",
      "c:\\Users\\utilisateur\\Desktop\\Climatologie\\data\\CURATED\\Country\\Guinea-Bissau.csv\n",
      "c:\\Users\\utilisateur\\Desktop\\Climatologie\\data\\CURATED\\Country\\Ivory Coast.csv\n",
      "c:\\Users\\utilisateur\\Desktop\\Climatologie\\data\\CURATED\\Country\\Kenya.csv\n",
      "c:\\Users\\utilisateur\\Desktop\\Climatologie\\data\\CURATED\\Country\\Morocco.csv\n",
      "c:\\Users\\utilisateur\\Desktop\\Climatologie\\data\\CURATED\\Country\\Madagascar.csv\n",
      "c:\\Users\\utilisateur\\Desktop\\Climatologie\\data\\CURATED\\Country\\Mauritania.csv\n",
      "c:\\Users\\utilisateur\\Desktop\\Climatologie\\data\\CURATED\\Country\\Malawi.csv\n",
      "c:\\Users\\utilisateur\\Desktop\\Climatologie\\data\\CURATED\\Country\\Mozambique.csv\n",
      "c:\\Users\\utilisateur\\Desktop\\Climatologie\\data\\CURATED\\Country\\Namibia.csv\n",
      "c:\\Users\\utilisateur\\Desktop\\Climatologie\\data\\CURATED\\Country\\Nigeria.csv\n",
      "c:\\Users\\utilisateur\\Desktop\\Climatologie\\data\\CURATED\\Country\\Senegal.csv\n",
      "c:\\Users\\utilisateur\\Desktop\\Climatologie\\data\\CURATED\\Country\\Sierra Leone.csv\n",
      "c:\\Users\\utilisateur\\Desktop\\Climatologie\\data\\CURATED\\Country\\South Africa.csv\n",
      "c:\\Users\\utilisateur\\Desktop\\Climatologie\\data\\CURATED\\Country\\Togo.csv\n",
      "c:\\Users\\utilisateur\\Desktop\\Climatologie\\data\\CURATED\\Country\\Tunisia.csv\n",
      "c:\\Users\\utilisateur\\Desktop\\Climatologie\\data\\CURATED\\Country\\Tanzania.csv\n",
      "c:\\Users\\utilisateur\\Desktop\\Climatologie\\data\\CURATED\\Country\\Uganda.csv\n",
      "c:\\Users\\utilisateur\\Desktop\\Climatologie\\data\\CURATED\\Country\\Zambia.csv\n",
      "c:\\Users\\utilisateur\\Desktop\\Climatologie\\data\\CURATED\\Country\\Bangladesh.csv\n",
      "c:\\Users\\utilisateur\\Desktop\\Climatologie\\data\\CURATED\\Country\\China.csv\n",
      "c:\\Users\\utilisateur\\Desktop\\Climatologie\\data\\CURATED\\Country\\Hong Kong.csv\n",
      "c:\\Users\\utilisateur\\Desktop\\Climatologie\\data\\CURATED\\Country\\India.csv\n",
      "c:\\Users\\utilisateur\\Desktop\\Climatologie\\data\\CURATED\\Country\\Indonesia.csv\n",
      "c:\\Users\\utilisateur\\Desktop\\Climatologie\\data\\CURATED\\Country\\Japan.csv\n",
      "c:\\Users\\utilisateur\\Desktop\\Climatologie\\data\\CURATED\\Country\\Kazakhstan.csv\n",
      "c:\\Users\\utilisateur\\Desktop\\Climatologie\\data\\CURATED\\Country\\Kyrgyzstan.csv\n",
      "c:\\Users\\utilisateur\\Desktop\\Climatologie\\data\\CURATED\\Country\\Laos.csv\n",
      "c:\\Users\\utilisateur\\Desktop\\Climatologie\\data\\CURATED\\Country\\Malaysia.csv\n",
      "c:\\Users\\utilisateur\\Desktop\\Climatologie\\data\\CURATED\\Country\\Mongolia.csv\n",
      "c:\\Users\\utilisateur\\Desktop\\Climatologie\\data\\CURATED\\Country\\Myanmar (Burma).csv\n",
      "c:\\Users\\utilisateur\\Desktop\\Climatologie\\data\\CURATED\\Country\\Nepal.csv\n",
      "c:\\Users\\utilisateur\\Desktop\\Climatologie\\data\\CURATED\\Country\\North Korea.csv\n",
      "c:\\Users\\utilisateur\\Desktop\\Climatologie\\data\\CURATED\\Country\\Pakistan.csv\n",
      "c:\\Users\\utilisateur\\Desktop\\Climatologie\\data\\CURATED\\Country\\Philippines.csv\n",
      "c:\\Users\\utilisateur\\Desktop\\Climatologie\\data\\CURATED\\Country\\Singapore.csv\n",
      "c:\\Users\\utilisateur\\Desktop\\Climatologie\\data\\CURATED\\Country\\South Korea.csv\n",
      "c:\\Users\\utilisateur\\Desktop\\Climatologie\\data\\CURATED\\Country\\Sri Lanka.csv\n",
      "c:\\Users\\utilisateur\\Desktop\\Climatologie\\data\\CURATED\\Country\\Taiwan.csv\n",
      "c:\\Users\\utilisateur\\Desktop\\Climatologie\\data\\CURATED\\Country\\Tajikistan.csv\n",
      "c:\\Users\\utilisateur\\Desktop\\Climatologie\\data\\CURATED\\Country\\Thailand.csv\n",
      "c:\\Users\\utilisateur\\Desktop\\Climatologie\\data\\CURATED\\Country\\Turkmenistan.csv\n",
      "c:\\Users\\utilisateur\\Desktop\\Climatologie\\data\\CURATED\\Country\\Uzbekistan.csv\n",
      "c:\\Users\\utilisateur\\Desktop\\Climatologie\\data\\CURATED\\Country\\Vietnam.csv\n",
      "c:\\Users\\utilisateur\\Desktop\\Climatologie\\data\\CURATED\\Country\\Australia.csv\n",
      "c:\\Users\\utilisateur\\Desktop\\Climatologie\\data\\CURATED\\Country\\New Zealand.csv\n",
      "c:\\Users\\utilisateur\\Desktop\\Climatologie\\data\\CURATED\\Country\\Albania.csv\n",
      "c:\\Users\\utilisateur\\Desktop\\Climatologie\\data\\CURATED\\Country\\Austria.csv\n",
      "c:\\Users\\utilisateur\\Desktop\\Climatologie\\data\\CURATED\\Country\\Belarus.csv\n",
      "c:\\Users\\utilisateur\\Desktop\\Climatologie\\data\\CURATED\\Country\\Belgium.csv\n",
      "c:\\Users\\utilisateur\\Desktop\\Climatologie\\data\\CURATED\\Country\\Bulgaria.csv\n",
      "c:\\Users\\utilisateur\\Desktop\\Climatologie\\data\\CURATED\\Country\\Croatia.csv\n",
      "c:\\Users\\utilisateur\\Desktop\\Climatologie\\data\\CURATED\\Country\\Cyprus.csv\n",
      "c:\\Users\\utilisateur\\Desktop\\Climatologie\\data\\CURATED\\Country\\Czech Republic.csv\n",
      "c:\\Users\\utilisateur\\Desktop\\Climatologie\\data\\CURATED\\Country\\Denmark.csv\n",
      "c:\\Users\\utilisateur\\Desktop\\Climatologie\\data\\CURATED\\Country\\Finland.csv\n",
      "c:\\Users\\utilisateur\\Desktop\\Climatologie\\data\\CURATED\\Country\\France.csv\n",
      "c:\\Users\\utilisateur\\Desktop\\Climatologie\\data\\CURATED\\Country\\Germany.csv\n",
      "c:\\Users\\utilisateur\\Desktop\\Climatologie\\data\\CURATED\\Country\\Georgia.csv\n",
      "c:\\Users\\utilisateur\\Desktop\\Climatologie\\data\\CURATED\\Country\\Greece.csv\n",
      "c:\\Users\\utilisateur\\Desktop\\Climatologie\\data\\CURATED\\Country\\Hungary.csv\n",
      "c:\\Users\\utilisateur\\Desktop\\Climatologie\\data\\CURATED\\Country\\Iceland.csv\n",
      "c:\\Users\\utilisateur\\Desktop\\Climatologie\\data\\CURATED\\Country\\Ireland.csv\n",
      "c:\\Users\\utilisateur\\Desktop\\Climatologie\\data\\CURATED\\Country\\Italy.csv\n",
      "c:\\Users\\utilisateur\\Desktop\\Climatologie\\data\\CURATED\\Country\\Latvia.csv\n",
      "c:\\Users\\utilisateur\\Desktop\\Climatologie\\data\\CURATED\\Country\\Macedonia.csv\n",
      "c:\\Users\\utilisateur\\Desktop\\Climatologie\\data\\CURATED\\Country\\The Netherlands.csv\n",
      "c:\\Users\\utilisateur\\Desktop\\Climatologie\\data\\CURATED\\Country\\Norway.csv\n",
      "c:\\Users\\utilisateur\\Desktop\\Climatologie\\data\\CURATED\\Country\\Poland.csv\n",
      "c:\\Users\\utilisateur\\Desktop\\Climatologie\\data\\CURATED\\Country\\Portugal.csv\n",
      "c:\\Users\\utilisateur\\Desktop\\Climatologie\\data\\CURATED\\Country\\Romania.csv\n",
      "c:\\Users\\utilisateur\\Desktop\\Climatologie\\data\\CURATED\\Country\\Russia.csv\n",
      "c:\\Users\\utilisateur\\Desktop\\Climatologie\\data\\CURATED\\Country\\Serbia-Montenegro.csv\n",
      "c:\\Users\\utilisateur\\Desktop\\Climatologie\\data\\CURATED\\Country\\Slovakia.csv\n",
      "c:\\Users\\utilisateur\\Desktop\\Climatologie\\data\\CURATED\\Country\\Spain.csv\n",
      "c:\\Users\\utilisateur\\Desktop\\Climatologie\\data\\CURATED\\Country\\Sweden.csv\n",
      "c:\\Users\\utilisateur\\Desktop\\Climatologie\\data\\CURATED\\Country\\Switzerland.csv\n",
      "c:\\Users\\utilisateur\\Desktop\\Climatologie\\data\\CURATED\\Country\\Ukraine.csv\n",
      "c:\\Users\\utilisateur\\Desktop\\Climatologie\\data\\CURATED\\Country\\United Kingdom.csv\n",
      "c:\\Users\\utilisateur\\Desktop\\Climatologie\\data\\CURATED\\Country\\Yugoslavia.csv\n",
      "c:\\Users\\utilisateur\\Desktop\\Climatologie\\data\\CURATED\\Country\\Bahrain.csv\n",
      "c:\\Users\\utilisateur\\Desktop\\Climatologie\\data\\CURATED\\Country\\Israel.csv\n",
      "c:\\Users\\utilisateur\\Desktop\\Climatologie\\data\\CURATED\\Country\\Jordan.csv\n",
      "c:\\Users\\utilisateur\\Desktop\\Climatologie\\data\\CURATED\\Country\\Kuwait.csv\n",
      "c:\\Users\\utilisateur\\Desktop\\Climatologie\\data\\CURATED\\Country\\Lebanon.csv\n",
      "c:\\Users\\utilisateur\\Desktop\\Climatologie\\data\\CURATED\\Country\\Oman.csv\n",
      "c:\\Users\\utilisateur\\Desktop\\Climatologie\\data\\CURATED\\Country\\Qatar.csv\n",
      "c:\\Users\\utilisateur\\Desktop\\Climatologie\\data\\CURATED\\Country\\Saudi Arabia.csv\n",
      "c:\\Users\\utilisateur\\Desktop\\Climatologie\\data\\CURATED\\Country\\Syria.csv\n",
      "c:\\Users\\utilisateur\\Desktop\\Climatologie\\data\\CURATED\\Country\\Turkey.csv\n",
      "c:\\Users\\utilisateur\\Desktop\\Climatologie\\data\\CURATED\\Country\\United Arab Emirates.csv\n",
      "c:\\Users\\utilisateur\\Desktop\\Climatologie\\data\\CURATED\\Country\\Canada.csv\n",
      "c:\\Users\\utilisateur\\Desktop\\Climatologie\\data\\CURATED\\Country\\Mexico.csv\n",
      "c:\\Users\\utilisateur\\Desktop\\Climatologie\\data\\CURATED\\Country\\Argentina.csv\n",
      "c:\\Users\\utilisateur\\Desktop\\Climatologie\\data\\CURATED\\Country\\Bahamas.csv\n",
      "c:\\Users\\utilisateur\\Desktop\\Climatologie\\data\\CURATED\\Country\\Bermuda.csv\n",
      "c:\\Users\\utilisateur\\Desktop\\Climatologie\\data\\CURATED\\Country\\Belize.csv\n",
      "c:\\Users\\utilisateur\\Desktop\\Climatologie\\data\\CURATED\\Country\\Bolivia.csv\n",
      "c:\\Users\\utilisateur\\Desktop\\Climatologie\\data\\CURATED\\Country\\Barbados.csv\n",
      "c:\\Users\\utilisateur\\Desktop\\Climatologie\\data\\CURATED\\Country\\Brazil.csv\n",
      "c:\\Users\\utilisateur\\Desktop\\Climatologie\\data\\CURATED\\Country\\Colombia.csv\n",
      "c:\\Users\\utilisateur\\Desktop\\Climatologie\\data\\CURATED\\Country\\Costa Rica.csv\n",
      "c:\\Users\\utilisateur\\Desktop\\Climatologie\\data\\CURATED\\Country\\Cuba.csv\n",
      "c:\\Users\\utilisateur\\Desktop\\Climatologie\\data\\CURATED\\Country\\Dominican Republic.csv\n",
      "c:\\Users\\utilisateur\\Desktop\\Climatologie\\data\\CURATED\\Country\\Equador.csv\n",
      "c:\\Users\\utilisateur\\Desktop\\Climatologie\\data\\CURATED\\Country\\Guatemala.csv\n",
      "c:\\Users\\utilisateur\\Desktop\\Climatologie\\data\\CURATED\\Country\\Guyana.csv\n",
      "c:\\Users\\utilisateur\\Desktop\\Climatologie\\data\\CURATED\\Country\\Haiti.csv\n",
      "c:\\Users\\utilisateur\\Desktop\\Climatologie\\data\\CURATED\\Country\\Honduras.csv\n",
      "c:\\Users\\utilisateur\\Desktop\\Climatologie\\data\\CURATED\\Country\\Nicaragua.csv\n",
      "c:\\Users\\utilisateur\\Desktop\\Climatologie\\data\\CURATED\\Country\\Panama.csv\n",
      "c:\\Users\\utilisateur\\Desktop\\Climatologie\\data\\CURATED\\Country\\Peru.csv\n",
      "c:\\Users\\utilisateur\\Desktop\\Climatologie\\data\\CURATED\\Country\\Suriname.csv\n",
      "c:\\Users\\utilisateur\\Desktop\\Climatologie\\data\\CURATED\\Country\\Uruguay.csv\n",
      "c:\\Users\\utilisateur\\Desktop\\Climatologie\\data\\CURATED\\Country\\Venezuela.csv\n",
      "c:\\Users\\utilisateur\\Desktop\\Climatologie\\data\\CURATED\\Country\\US.csv\n"
     ]
    }
   ],
   "source": [
    "sd.split_datas(cr.TEMPERATURES, 'Country')"
   ]
  },
  {
   "cell_type": "code",
   "execution_count": null,
   "metadata": {},
   "outputs": [],
   "source": []
  }
 ]
}